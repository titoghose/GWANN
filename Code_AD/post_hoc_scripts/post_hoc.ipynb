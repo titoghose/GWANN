{
 "cells": [
  {
   "cell_type": "code",
   "execution_count": 1,
   "metadata": {},
   "outputs": [],
   "source": [
    "import pandas as pd\n",
    "import numpy as np"
   ]
  },
  {
   "cell_type": "markdown",
   "metadata": {},
   "source": [
    "# GSEA  "
   ]
  },
  {
   "cell_type": "markdown",
   "metadata": {},
   "source": [
    "## Find pathways with hits in the leading edge"
   ]
  },
  {
   "cell_type": "code",
   "execution_count": 2,
   "metadata": {},
   "outputs": [],
   "source": [
    "pathways = ['Reactome', 'KEGG_Legacy', 'Wiki', 'GO']\n",
    "entrez_hgnc_map = pd.read_csv('/home/upamanyu/GWANN/Code_AD/results_Sens8_v4/entrez_glist.csv', dtype=str)\n",
    "entrez_hgnc_map = entrez_hgnc_map.set_index('entrezgene_id')['hgnc_symbol'].to_dict()"
   ]
  },
  {
   "cell_type": "code",
   "execution_count": 3,
   "metadata": {},
   "outputs": [],
   "source": [
    "pw_dfs = {}\n",
    "for pw in pathways:\n",
    "    pw_df = pd.read_csv(f'/home/upamanyu/GWANN/Code_AD/results_Sens8_v4/enrichments/fGSEA_{pw}.csv', \n",
    "                        dtype={'hits_overlap': str})\n",
    "    pw_df = pw_df.loc[~pw_df['hits_overlap'].isnull()]\n",
    "    pw_df['hits'] = pw_df['hits_overlap'].apply(lambda x: ';'.join([entrez_hgnc_map[y] for y in x.split(';')])).values\n",
    "    pw_df = pw_df[['pathway', 'padj', 'hits']]\n",
    "    pw_df['hits_len'] = pw_df['hits'].apply(lambda x: len(x.split(';')))\n",
    "    pw_df.sort_values(['hits_len', 'padj'], ascending=[False, True], inplace=True)\n",
    "    pw_dfs[pw] = pw_df"
   ]
  },
  {
   "cell_type": "code",
   "execution_count": 4,
   "metadata": {},
   "outputs": [
    {
     "data": {
      "text/html": [
       "<div>\n",
       "<style scoped>\n",
       "    .dataframe tbody tr th:only-of-type {\n",
       "        vertical-align: middle;\n",
       "    }\n",
       "\n",
       "    .dataframe tbody tr th {\n",
       "        vertical-align: top;\n",
       "    }\n",
       "\n",
       "    .dataframe thead th {\n",
       "        text-align: right;\n",
       "    }\n",
       "</style>\n",
       "<table border=\"1\" class=\"dataframe\">\n",
       "  <thead>\n",
       "    <tr style=\"text-align: right;\">\n",
       "      <th></th>\n",
       "      <th>pathway</th>\n",
       "      <th>padj</th>\n",
       "      <th>hits</th>\n",
       "      <th>hits_len</th>\n",
       "    </tr>\n",
       "  </thead>\n",
       "  <tbody>\n",
       "    <tr>\n",
       "      <th>10</th>\n",
       "      <td>WP_VEGFA_VEGFR2_SIGNALING</td>\n",
       "      <td>0.003978</td>\n",
       "      <td>BIN1;ADAM10</td>\n",
       "      <td>2</td>\n",
       "    </tr>\n",
       "    <tr>\n",
       "      <th>7</th>\n",
       "      <td>WP_PLEURAL_MESOTHELIOMA</td>\n",
       "      <td>0.001681</td>\n",
       "      <td>ROR1</td>\n",
       "      <td>1</td>\n",
       "    </tr>\n",
       "    <tr>\n",
       "      <th>26</th>\n",
       "      <td>WP_PRIMARY_FOCAL_SEGMENTAL_GLOMERULOSCLEROSIS_...</td>\n",
       "      <td>0.043952</td>\n",
       "      <td>SYNPO</td>\n",
       "      <td>1</td>\n",
       "    </tr>\n",
       "  </tbody>\n",
       "</table>\n",
       "</div>"
      ],
      "text/plain": [
       "                                              pathway      padj         hits  \\\n",
       "10                          WP_VEGFA_VEGFR2_SIGNALING  0.003978  BIN1;ADAM10   \n",
       "7                             WP_PLEURAL_MESOTHELIOMA  0.001681         ROR1   \n",
       "26  WP_PRIMARY_FOCAL_SEGMENTAL_GLOMERULOSCLEROSIS_...  0.043952        SYNPO   \n",
       "\n",
       "    hits_len  \n",
       "10         2  \n",
       "7          1  \n",
       "26         1  "
      ]
     },
     "execution_count": 4,
     "metadata": {},
     "output_type": "execute_result"
    }
   ],
   "source": [
    "pw_dfs['Wiki']"
   ]
  },
  {
   "cell_type": "code",
   "execution_count": 5,
   "metadata": {},
   "outputs": [
    {
     "data": {
      "text/html": [
       "<div>\n",
       "<style scoped>\n",
       "    .dataframe tbody tr th:only-of-type {\n",
       "        vertical-align: middle;\n",
       "    }\n",
       "\n",
       "    .dataframe tbody tr th {\n",
       "        vertical-align: top;\n",
       "    }\n",
       "\n",
       "    .dataframe thead th {\n",
       "        text-align: right;\n",
       "    }\n",
       "</style>\n",
       "<table border=\"1\" class=\"dataframe\">\n",
       "  <thead>\n",
       "    <tr style=\"text-align: right;\">\n",
       "      <th></th>\n",
       "      <th>pathway</th>\n",
       "      <th>padj</th>\n",
       "      <th>hits</th>\n",
       "      <th>hits_len</th>\n",
       "    </tr>\n",
       "  </thead>\n",
       "  <tbody>\n",
       "    <tr>\n",
       "      <th>4</th>\n",
       "      <td>Signaling by Receptor Tyrosine Kinases</td>\n",
       "      <td>0.000764</td>\n",
       "      <td>APOE;NRG3;APH1B;ADAM10</td>\n",
       "      <td>4</td>\n",
       "    </tr>\n",
       "    <tr>\n",
       "      <th>9</th>\n",
       "      <td>Diseases of signal transduction by growth fact...</td>\n",
       "      <td>0.011135</td>\n",
       "      <td>NRG3;APH1B;ADAM10</td>\n",
       "      <td>3</td>\n",
       "    </tr>\n",
       "    <tr>\n",
       "      <th>7</th>\n",
       "      <td>Axon guidance</td>\n",
       "      <td>0.002231</td>\n",
       "      <td>APH1B;ADAM10</td>\n",
       "      <td>2</td>\n",
       "    </tr>\n",
       "    <tr>\n",
       "      <th>1</th>\n",
       "      <td>Extracellular matrix organization</td>\n",
       "      <td>0.000104</td>\n",
       "      <td>ADAM10</td>\n",
       "      <td>1</td>\n",
       "    </tr>\n",
       "    <tr>\n",
       "      <th>33</th>\n",
       "      <td>Transcriptional regulation by RUNX1</td>\n",
       "      <td>0.029917</td>\n",
       "      <td>SPI1</td>\n",
       "      <td>1</td>\n",
       "    </tr>\n",
       "    <tr>\n",
       "      <th>37</th>\n",
       "      <td>PI3K events in ERBB2 signaling</td>\n",
       "      <td>0.035378</td>\n",
       "      <td>NRG3</td>\n",
       "      <td>1</td>\n",
       "    </tr>\n",
       "    <tr>\n",
       "      <th>43</th>\n",
       "      <td>PI3K events in ERBB4 signaling</td>\n",
       "      <td>0.037119</td>\n",
       "      <td>NRG3</td>\n",
       "      <td>1</td>\n",
       "    </tr>\n",
       "  </tbody>\n",
       "</table>\n",
       "</div>"
      ],
      "text/plain": [
       "                                              pathway      padj  \\\n",
       "4              Signaling by Receptor Tyrosine Kinases  0.000764   \n",
       "9   Diseases of signal transduction by growth fact...  0.011135   \n",
       "7                                       Axon guidance  0.002231   \n",
       "1                   Extracellular matrix organization  0.000104   \n",
       "33                Transcriptional regulation by RUNX1  0.029917   \n",
       "37                     PI3K events in ERBB2 signaling  0.035378   \n",
       "43                     PI3K events in ERBB4 signaling  0.037119   \n",
       "\n",
       "                      hits  hits_len  \n",
       "4   APOE;NRG3;APH1B;ADAM10         4  \n",
       "9        NRG3;APH1B;ADAM10         3  \n",
       "7             APH1B;ADAM10         2  \n",
       "1                   ADAM10         1  \n",
       "33                    SPI1         1  \n",
       "37                    NRG3         1  \n",
       "43                    NRG3         1  "
      ]
     },
     "execution_count": 5,
     "metadata": {},
     "output_type": "execute_result"
    }
   ],
   "source": [
    "pw_dfs['Reactome']"
   ]
  },
  {
   "cell_type": "code",
   "execution_count": 6,
   "metadata": {},
   "outputs": [
    {
     "data": {
      "text/html": [
       "<div>\n",
       "<style scoped>\n",
       "    .dataframe tbody tr th:only-of-type {\n",
       "        vertical-align: middle;\n",
       "    }\n",
       "\n",
       "    .dataframe tbody tr th {\n",
       "        vertical-align: top;\n",
       "    }\n",
       "\n",
       "    .dataframe thead th {\n",
       "        text-align: right;\n",
       "    }\n",
       "</style>\n",
       "<table border=\"1\" class=\"dataframe\">\n",
       "  <thead>\n",
       "    <tr style=\"text-align: right;\">\n",
       "      <th></th>\n",
       "      <th>pathway</th>\n",
       "      <th>padj</th>\n",
       "      <th>hits</th>\n",
       "      <th>hits_len</th>\n",
       "    </tr>\n",
       "  </thead>\n",
       "  <tbody>\n",
       "    <tr>\n",
       "      <th>8</th>\n",
       "      <td>KEGG_PATHWAYS_IN_CANCER</td>\n",
       "      <td>0.019593</td>\n",
       "      <td>SPI1</td>\n",
       "      <td>1</td>\n",
       "    </tr>\n",
       "    <tr>\n",
       "      <th>9</th>\n",
       "      <td>KEGG_ERBB_SIGNALING_PATHWAY</td>\n",
       "      <td>0.022878</td>\n",
       "      <td>NRG3</td>\n",
       "      <td>1</td>\n",
       "    </tr>\n",
       "  </tbody>\n",
       "</table>\n",
       "</div>"
      ],
      "text/plain": [
       "                       pathway      padj  hits  hits_len\n",
       "8      KEGG_PATHWAYS_IN_CANCER  0.019593  SPI1         1\n",
       "9  KEGG_ERBB_SIGNALING_PATHWAY  0.022878  NRG3         1"
      ]
     },
     "execution_count": 6,
     "metadata": {},
     "output_type": "execute_result"
    }
   ],
   "source": [
    "pw_dfs['KEGG_Legacy']"
   ]
  },
  {
   "cell_type": "code",
   "execution_count": 7,
   "metadata": {},
   "outputs": [
    {
     "data": {
      "text/html": [
       "<div>\n",
       "<style scoped>\n",
       "    .dataframe tbody tr th:only-of-type {\n",
       "        vertical-align: middle;\n",
       "    }\n",
       "\n",
       "    .dataframe tbody tr th {\n",
       "        vertical-align: top;\n",
       "    }\n",
       "\n",
       "    .dataframe thead th {\n",
       "        text-align: right;\n",
       "    }\n",
       "</style>\n",
       "<table border=\"1\" class=\"dataframe\">\n",
       "  <thead>\n",
       "    <tr style=\"text-align: right;\">\n",
       "      <th></th>\n",
       "      <th>pathway</th>\n",
       "      <th>padj</th>\n",
       "      <th>hits</th>\n",
       "      <th>hits_len</th>\n",
       "    </tr>\n",
       "  </thead>\n",
       "  <tbody>\n",
       "    <tr>\n",
       "      <th>12</th>\n",
       "      <td>GOBP_SYNAPSE_ORGANIZATION</td>\n",
       "      <td>5.661460e-06</td>\n",
       "      <td>APOE;NRG3;LINGO2;ADAM10;SYNPO</td>\n",
       "      <td>5</td>\n",
       "    </tr>\n",
       "    <tr>\n",
       "      <th>3</th>\n",
       "      <td>GOCC_CELL_CELL_JUNCTION</td>\n",
       "      <td>7.035276e-08</td>\n",
       "      <td>LRRC7;PCDH9;ADAM10;SYNPO</td>\n",
       "      <td>4</td>\n",
       "    </tr>\n",
       "    <tr>\n",
       "      <th>9</th>\n",
       "      <td>GOCC_GLUTAMATERGIC_SYNAPSE</td>\n",
       "      <td>2.643126e-06</td>\n",
       "      <td>APOE;BIN1;NRG3;ADAM10</td>\n",
       "      <td>4</td>\n",
       "    </tr>\n",
       "    <tr>\n",
       "      <th>322</th>\n",
       "      <td>GOBP_REGULATION_OF_VESICLE_MEDIATED_TRANSPORT</td>\n",
       "      <td>4.769016e-02</td>\n",
       "      <td>APOE;BIN1;SORL1;SPI1</td>\n",
       "      <td>4</td>\n",
       "    </tr>\n",
       "    <tr>\n",
       "      <th>2</th>\n",
       "      <td>GOBP_REGULATION_OF_NEURON_PROJECTION_DEVELOPMENT</td>\n",
       "      <td>7.035276e-08</td>\n",
       "      <td>APOE;LRRC7;ROR1</td>\n",
       "      <td>3</td>\n",
       "    </tr>\n",
       "    <tr>\n",
       "      <th>10</th>\n",
       "      <td>GOCC_POSTSYNAPTIC_SPECIALIZATION</td>\n",
       "      <td>3.229511e-06</td>\n",
       "      <td>LRRC7;ADAM10;SYNPO</td>\n",
       "      <td>3</td>\n",
       "    </tr>\n",
       "    <tr>\n",
       "      <th>11</th>\n",
       "      <td>GOCC_NEURON_TO_NEURON_SYNAPSE</td>\n",
       "      <td>5.622494e-06</td>\n",
       "      <td>LRRC7;ADAM10;SYNPO</td>\n",
       "      <td>3</td>\n",
       "    </tr>\n",
       "    <tr>\n",
       "      <th>25</th>\n",
       "      <td>GOCC_DISTAL_AXON</td>\n",
       "      <td>7.770231e-05</td>\n",
       "      <td>BIN1;ROR1;PCDH9</td>\n",
       "      <td>3</td>\n",
       "    </tr>\n",
       "    <tr>\n",
       "      <th>29</th>\n",
       "      <td>GOCC_CELL_BODY</td>\n",
       "      <td>1.267556e-04</td>\n",
       "      <td>APOE;SORL1;SYNPO</td>\n",
       "      <td>3</td>\n",
       "    </tr>\n",
       "    <tr>\n",
       "      <th>52</th>\n",
       "      <td>GOBP_REGULATION_OF_SYNAPSE_STRUCTURE_OR_ACTIVITY</td>\n",
       "      <td>7.725888e-04</td>\n",
       "      <td>APOE;LINGO2;ADAM10</td>\n",
       "      <td>3</td>\n",
       "    </tr>\n",
       "  </tbody>\n",
       "</table>\n",
       "</div>"
      ],
      "text/plain": [
       "                                              pathway          padj  \\\n",
       "12                          GOBP_SYNAPSE_ORGANIZATION  5.661460e-06   \n",
       "3                             GOCC_CELL_CELL_JUNCTION  7.035276e-08   \n",
       "9                          GOCC_GLUTAMATERGIC_SYNAPSE  2.643126e-06   \n",
       "322     GOBP_REGULATION_OF_VESICLE_MEDIATED_TRANSPORT  4.769016e-02   \n",
       "2    GOBP_REGULATION_OF_NEURON_PROJECTION_DEVELOPMENT  7.035276e-08   \n",
       "10                   GOCC_POSTSYNAPTIC_SPECIALIZATION  3.229511e-06   \n",
       "11                      GOCC_NEURON_TO_NEURON_SYNAPSE  5.622494e-06   \n",
       "25                                   GOCC_DISTAL_AXON  7.770231e-05   \n",
       "29                                     GOCC_CELL_BODY  1.267556e-04   \n",
       "52   GOBP_REGULATION_OF_SYNAPSE_STRUCTURE_OR_ACTIVITY  7.725888e-04   \n",
       "\n",
       "                              hits  hits_len  \n",
       "12   APOE;NRG3;LINGO2;ADAM10;SYNPO         5  \n",
       "3         LRRC7;PCDH9;ADAM10;SYNPO         4  \n",
       "9            APOE;BIN1;NRG3;ADAM10         4  \n",
       "322           APOE;BIN1;SORL1;SPI1         4  \n",
       "2                  APOE;LRRC7;ROR1         3  \n",
       "10              LRRC7;ADAM10;SYNPO         3  \n",
       "11              LRRC7;ADAM10;SYNPO         3  \n",
       "25                 BIN1;ROR1;PCDH9         3  \n",
       "29                APOE;SORL1;SYNPO         3  \n",
       "52              APOE;LINGO2;ADAM10         3  "
      ]
     },
     "execution_count": 7,
     "metadata": {},
     "output_type": "execute_result"
    }
   ],
   "source": [
    "pw_dfs['GO'].head(10)\n"
   ]
  },
  {
   "cell_type": "markdown",
   "metadata": {},
   "source": [
    "# Transcriptomic DEG enrichment (Patel et. al. studies)"
   ]
  },
  {
   "cell_type": "markdown",
   "metadata": {},
   "source": [
    "## Combine DEG dataframes"
   ]
  },
  {
   "cell_type": "code",
   "execution_count": 2,
   "metadata": {},
   "outputs": [
    {
     "data": {
      "text/plain": [
       "region\n",
       "cerebellum     867\n",
       "frontal        460\n",
       "parietal      1736\n",
       "temporal       323\n",
       "Name: Entrez_Gene_ID, dtype: int64"
      ]
     },
     "execution_count": 2,
     "metadata": {},
     "output_type": "execute_result"
    }
   ],
   "source": [
    "# Find genes differentially expressed between AD and controls\n",
    "patel1_ad_df = pd.read_csv('/mnt/sdb/Patel1/AD_DEG.csv', dtype={'Entrez_Gene_ID':int})\n",
    "patel1_ad_df = patel1_ad_df[['Entrez_Gene_ID', 'Gene_Symbol', 'AW_FDR_adjusted_p_val', 'region']]\n",
    "patel1_ad_df = patel1_ad_df.loc[patel1_ad_df['AW_FDR_adjusted_p_val'] < 0.05]\n",
    "patel1_ad_df = patel1_ad_df[['Entrez_Gene_ID', 'Gene_Symbol', 'region']]\n",
    "patel1_ad_df.drop_duplicates(inplace=True)\n",
    "patel1_ad_df['Entrez_Gene_ID'] = patel1_ad_df['Entrez_Gene_ID'].astype(str)\n",
    "patel1_ad_df.groupby('region')['Entrez_Gene_ID'].count()"
   ]
  },
  {
   "cell_type": "code",
   "execution_count": 3,
   "metadata": {},
   "outputs": [
    {
     "data": {
      "text/plain": [
       "region\n",
       "cerebellum     176\n",
       "entorhinal    1695\n",
       "frontal        556\n",
       "temporal      1625\n",
       "Name: Entrez_Gene_ID, dtype: int64"
      ]
     },
     "execution_count": 3,
     "metadata": {},
     "output_type": "execute_result"
    }
   ],
   "source": [
    "# Find genes differentially expressed between (i) AD and controls or \n",
    "# (ii) AsymAD and controls\n",
    "patel2_ad_df = pd.read_csv('/mnt/sdb/Patel2/DEG.csv', dtype={'Entrez_Gene_ID':int})\n",
    "patel2_ad_df = patel2_ad_df[['Entrez_Gene_ID', 'Gene_Symbol', 'AsymAD vs CO.P.val', 'AD vs CO.P.val', 'region']]\n",
    "patel2_ad_df = patel2_ad_df.loc[(patel2_ad_df['AsymAD vs CO.P.val'] < 0.05) | \n",
    "                                (patel2_ad_df['AD vs CO.P.val'] < 0.05)]\n",
    "patel2_ad_df = patel2_ad_df[['Entrez_Gene_ID', 'Gene_Symbol', 'region']]\n",
    "patel2_ad_df.drop_duplicates(inplace=True)\n",
    "patel2_ad_df['Entrez_Gene_ID'] = patel2_ad_df['Entrez_Gene_ID'].astype(str)\n",
    "patel2_ad_df.groupby('region')['Entrez_Gene_ID'].count()\n"
   ]
  },
  {
   "cell_type": "markdown",
   "metadata": {},
   "source": [
    "## Convert DEG dicts to GMT files to use with fGSEA"
   ]
  },
  {
   "cell_type": "code",
   "execution_count": 4,
   "metadata": {},
   "outputs": [],
   "source": [
    "patel1_dict = patel1_ad_df.groupby('region')['Entrez_Gene_ID'].apply(list).to_dict()\n",
    "patel1_dict = {f'Patel1_{k}': v for k, v in patel1_dict.items()}\n",
    "patel2_dict = patel2_ad_df.groupby('region')['Entrez_Gene_ID'].apply(list).to_dict()\n",
    "patel2_dict = {f'Patel2_{k}': v for k, v in patel2_dict.items()}\n",
    "deg_dict = {**patel1_dict, **patel2_dict}\n",
    "gmt_text = ''\n",
    "for k, v in deg_dict.items():\n",
    "    gmt_text += f'{k.upper()}\\t' + 'no_website\\t' + '\\t'.join(v) + '\\n'\n",
    "with open('Patel_DEG.entrez.gmt', 'w') as f:\n",
    "    f.write(gmt_text)"
   ]
  },
  {
   "cell_type": "markdown",
   "metadata": {},
   "source": [
    "## Intersection over union of DEGs between two studies"
   ]
  },
  {
   "cell_type": "code",
   "execution_count": 30,
   "metadata": {},
   "outputs": [
    {
     "name": "stdout",
     "output_type": "stream",
     "text": [
      "Region       AuB       A^B       A-B       B-A       \n",
      "\n",
      "temporal   : 1782      166       157       1459      \n",
      "           :           0.0932    0.0881    0.8187\n",
      "frontal    : 921       95        365       461       \n",
      "           :           0.1031    0.3963    0.5005\n",
      "cerebellum : 954       89        778       87        \n",
      "           :           0.0933    0.8155    0.0912\n"
     ]
    }
   ],
   "source": [
    "print(f'{\"Region\":<10}   {\"AuB\":<10}{\"A^B\":<10}{\"A-B\":<10}{\"B-A\":<10}\\n')\n",
    "for region in ['temporal', 'frontal', 'cerebellum']:\n",
    "    aunib = len(set(deg_dict[f'Patel1_{region}']).union(set(deg_dict[f'Patel2_{region}'])))\n",
    "    aintb = len(set(deg_dict[f'Patel1_{region}']).intersection(set(deg_dict[f'Patel2_{region}'])))\n",
    "    adiffb = len(set(deg_dict[f'Patel1_{region}']).difference(set(deg_dict[f'Patel2_{region}'])))\n",
    "    bdiffa = len(set(deg_dict[f'Patel2_{region}']).difference(set(deg_dict[f'Patel1_{region}'])))\n",
    "    print(f'{region:<10} : {aunib:<10}{aintb:<10}{adiffb:<10}{bdiffa:<10}')\n",
    "    print(f'{\"\":<10} : {\"\":<10}{aintb/aunib:.4f}    {adiffb/aunib:.4f}    {bdiffa/aunib:.4f}')\n",
    "    "
   ]
  },
  {
   "cell_type": "markdown",
   "metadata": {},
   "source": [
    "## fGSEA results to table"
   ]
  },
  {
   "cell_type": "code",
   "execution_count": 25,
   "metadata": {},
   "outputs": [
    {
     "data": {
      "text/html": [
       "<div>\n",
       "<style scoped>\n",
       "    .dataframe tbody tr th:only-of-type {\n",
       "        vertical-align: middle;\n",
       "    }\n",
       "\n",
       "    .dataframe tbody tr th {\n",
       "        vertical-align: top;\n",
       "    }\n",
       "\n",
       "    .dataframe thead tr th {\n",
       "        text-align: left;\n",
       "    }\n",
       "\n",
       "    .dataframe thead tr:last-of-type th {\n",
       "        text-align: right;\n",
       "    }\n",
       "</style>\n",
       "<table border=\"1\" class=\"dataframe\">\n",
       "  <thead>\n",
       "    <tr>\n",
       "      <th>Study</th>\n",
       "      <th colspan=\"2\" halign=\"left\">Patel1</th>\n",
       "      <th colspan=\"2\" halign=\"left\">Patel2</th>\n",
       "    </tr>\n",
       "    <tr>\n",
       "      <th></th>\n",
       "      <th>P-value</th>\n",
       "      <th>hits_overlap</th>\n",
       "      <th>P-value</th>\n",
       "      <th>hits_overlap</th>\n",
       "    </tr>\n",
       "    <tr>\n",
       "      <th>Brain Region</th>\n",
       "      <th></th>\n",
       "      <th></th>\n",
       "      <th></th>\n",
       "      <th></th>\n",
       "    </tr>\n",
       "  </thead>\n",
       "  <tbody>\n",
       "    <tr>\n",
       "      <th>Cerebellum</th>\n",
       "      <td>0.038628</td>\n",
       "      <td>5101</td>\n",
       "      <td>0.678322</td>\n",
       "      <td>NaN</td>\n",
       "    </tr>\n",
       "    <tr>\n",
       "      <th>Entorhinal</th>\n",
       "      <td>NaN</td>\n",
       "      <td>NaN</td>\n",
       "      <td>0.002583</td>\n",
       "      <td>274;6653;11346</td>\n",
       "    </tr>\n",
       "    <tr>\n",
       "      <th>Frontal</th>\n",
       "      <td>0.009741</td>\n",
       "      <td>6653</td>\n",
       "      <td>0.388183</td>\n",
       "      <td>348</td>\n",
       "    </tr>\n",
       "    <tr>\n",
       "      <th>Parietal</th>\n",
       "      <td>0.0</td>\n",
       "      <td>348;6653;5101</td>\n",
       "      <td>NaN</td>\n",
       "      <td>NaN</td>\n",
       "    </tr>\n",
       "    <tr>\n",
       "      <th>Temporal</th>\n",
       "      <td>0.009028</td>\n",
       "      <td>NaN</td>\n",
       "      <td>0.031962</td>\n",
       "      <td>11346</td>\n",
       "    </tr>\n",
       "  </tbody>\n",
       "</table>\n",
       "</div>"
      ],
      "text/plain": [
       "Study           Patel1                   Patel2                \n",
       "               P-value   hits_overlap   P-value    hits_overlap\n",
       "Brain Region                                                   \n",
       "Cerebellum    0.038628           5101  0.678322             NaN\n",
       "Entorhinal         NaN            NaN  0.002583  274;6653;11346\n",
       "Frontal       0.009741           6653  0.388183             348\n",
       "Parietal           0.0  348;6653;5101       NaN             NaN\n",
       "Temporal      0.009028            NaN  0.031962           11346"
      ]
     },
     "execution_count": 25,
     "metadata": {},
     "output_type": "execute_result"
    }
   ],
   "source": [
    "fgsea_res = pd.read_csv('/home/upamanyu/GWANN/Code_AD/results_Sens8_v4/enrichments/fGSEA_Patel_DEG.csv')\n",
    "fgsea_res = fgsea_res[['pathway', 'padj', 'hits_overlap']]\n",
    "fgsea_res['Study'] = fgsea_res['pathway'].apply(lambda x: x.split('_')[0].title())\n",
    "fgsea_res['Brain Region'] = fgsea_res['pathway'].apply(lambda x: x.split('_')[1].title())\n",
    "fgsea_res.rename(columns={'padj': 'P-value'}, inplace=True)\n",
    "fgsea_res = fgsea_res[['Study', 'Brain Region', 'P-value', 'hits_overlap']]\n",
    "fgsea_res\n",
    "res_table = fgsea_res.groupby(['Study', 'Brain Region'])[['P-value', 'hits_overlap']].first().stack().unstack(1).T\n",
    "res_table.to_excel('/home/upamanyu/GWANN/Code_AD/results_Sens8_v4/enrichments/fGSEA_Patel_DEG.xlsx')\n",
    "res_table"
   ]
  }
 ],
 "metadata": {
  "kernelspec": {
   "display_name": "GWANN_3.9",
   "language": "python",
   "name": "python3"
  },
  "language_info": {
   "codemirror_mode": {
    "name": "ipython",
    "version": 3
   },
   "file_extension": ".py",
   "mimetype": "text/x-python",
   "name": "python",
   "nbconvert_exporter": "python",
   "pygments_lexer": "ipython3",
   "version": "3.9.15"
  }
 },
 "nbformat": 4,
 "nbformat_minor": 2
}
