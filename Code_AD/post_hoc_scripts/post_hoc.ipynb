{
 "cells": [
  {
   "cell_type": "code",
   "execution_count": 1,
   "metadata": {},
   "outputs": [],
   "source": [
    "import os\n",
    "import pandas as pd\n",
    "import numpy as np\n",
    "import seaborn as sns\n",
    "import matplotlib.pyplot as plt\n",
    "import scipy.stats as stats\n",
    "import tqdm\n",
    "import copy\n",
    "tqdm.tqdm.pandas()"
   ]
  },
  {
   "cell_type": "markdown",
   "metadata": {},
   "source": [
    "# Traditional GWAS"
   ]
  },
  {
   "cell_type": "markdown",
   "metadata": {},
   "source": [
    "## Extract (SNPs)"
   ]
  },
  {
   "cell_type": "code",
   "execution_count": null,
   "metadata": {},
   "outputs": [],
   "source": [
    "import sys\n",
    "sys.path.append('../../')\n",
    "from GWANN.dataset_utils import get_win_snps\n",
    "\n",
    "gdf = pd.read_csv('../../GWANN/datatables/gene_annot.csv')\n",
    "gdf.set_index('symbol', inplace=True)\n",
    "\n",
    "os.chdir('/home/upamanyu/GWANN/Code_AD/results_Sens8_v4')\n",
    "summ_df = pd.read_csv('summary_nsuperwins_1_gene_level.csv')\n",
    "summ_df['Gene'] = summ_df['Gene'].apply(lambda x: x.split('_')[0])\n",
    "summ_df['start'] = gdf.loc[summ_df['Gene'], 'start'].values - 2500\n",
    "summ_df['end'] = gdf.loc[summ_df['Gene'], 'end'].values + 2500\n",
    "\n",
    "snps = []\n",
    "for _, row in tqdm.tqdm(summ_df.iterrows(), total=summ_df.shape[0]):\n",
    "    win = -1\n",
    "    start = row['start']\n",
    "    end = row['end']\n",
    "    chrom = row['Chrom']\n",
    "    win_snps = get_win_snps(chrom=str(chrom), start=start, end=end, win=win, \n",
    "                        pgen_data=f'/mnt/sdh/upamanyu/GWANN/GWANN_pgen/UKB_chr{chrom}.pvar')\n",
    "    snps.extend(win_snps['ID'].to_list())"
   ]
  },
  {
   "cell_type": "markdown",
   "metadata": {},
   "source": [
    "## Phenotype and Keep"
   ]
  },
  {
   "cell_type": "code",
   "execution_count": 40,
   "metadata": {},
   "outputs": [],
   "source": [
    "os.chdir('/home/upamanyu/GWANN/Code_AD/params/reviewer_rerun_Sens8')\n",
    "pheno_df = pd.read_csv('all_ids_FH_AD.csv')\n",
    "pheno_df['FID'] = pheno_df['iid'].values\n",
    "pheno_df.rename(columns={'iid': 'IID'}, inplace=True)\n",
    "pheno_df['FH_AD'] = pheno_df['FH_AD'].astype(int)\n",
    "pheno_df.loc[pheno_df['FH_AD']==1, 'FH_AD'] = 2\n",
    "pheno_df.loc[pheno_df['FH_AD']==0, 'FH_AD'] = 1\n",
    "\n",
    "os.chdir('/mnt/sdh/upamanyu/GWANN/GWAS')\n",
    "pheno_df[['FID', 'IID', 'FH_AD']].to_csv('pheno.txt', sep='\\t', index=False)\n",
    "pheno_df[['FID', 'IID']].to_csv('keep.txt', sep='\\t', index=False)\n",
    "# pheno_df[['IID']].to_csv('keep.txt', sep='\\t', index=False, header=False)"
   ]
  },
  {
   "cell_type": "markdown",
   "metadata": {},
   "source": [
    "## Covariates"
   ]
  },
  {
   "cell_type": "code",
   "execution_count": 44,
   "metadata": {},
   "outputs": [],
   "source": [
    "os.chdir('/mnt/sdh/upamanyu/GWANN/GWAS')\n",
    "keep = pd.read_csv('keep.txt', sep='\\t')['IID'].to_list()\n",
    "cov_df = pd.read_csv('../Variables_UKB.txt', sep=' ', comment='#')\n",
    "cov_df = cov_df[cov_df['ID_1'].isin(keep)]\n",
    "assert len(keep) == cov_df.shape[0]\n",
    "cov_df['FID'] = cov_df['ID_1'].values\n",
    "cov_df.rename(columns={'ID_1': 'IID'}, inplace=True)\n",
    "cov_df.filter(['FID', 'IID', 'f.31.0.0', 'f.21003.0.0', 'f.6138_ISCED', \n",
    "                'f.22009.0.1', 'f.22009.0.2', 'f.22009.0.3', 'f.22009.0.4', \n",
    "                'f.22009.0.5', 'f.22009.0.6']).to_csv('covariates.txt', sep='\\t', index=False)\n"
   ]
  },
  {
   "cell_type": "markdown",
   "metadata": {},
   "source": [
    "## Process summary stats"
   ]
  },
  {
   "cell_type": "code",
   "execution_count": 137,
   "metadata": {},
   "outputs": [],
   "source": [
    "from intervaltree import IntervalTree\n",
    "gdf = pd.read_csv('/home/upamanyu/GWANN/GWANN/datatables/gene_annot.csv')\n",
    "gtrees = {c:IntervalTree() for c in range(1, 23)}\n",
    "for c, idxs in gdf.groupby('chrom').groups.items():\n",
    "    sub_df = gdf.loc[idxs].copy()\n",
    "    for _, row in sub_df.iterrows():\n",
    "        gtrees[c][row['start']-2501:row['end']+2501] = row['symbol']"
   ]
  },
  {
   "cell_type": "code",
   "execution_count": null,
   "metadata": {},
   "outputs": [],
   "source": [
    "os.chdir('/mnt/sdh/upamanyu/GWANN/GWAS')\n",
    "summary_stats = pd.read_csv('FH_AD_summary_stats.txt', sep='\\t')\n",
    "summary_stats = summary_stats.loc[summary_stats['TEST'] == 'ADD']\n",
    "summary_stats.head()"
   ]
  },
  {
   "cell_type": "code",
   "execution_count": 155,
   "metadata": {},
   "outputs": [
    {
     "name": "stderr",
     "output_type": "stream",
     "text": [
      "100%|██████████| 2950159/2950159 [01:02<00:00, 47133.99it/s]\n"
     ]
    }
   ],
   "source": [
    "def get_gene_symbol(chrom, pos):\n",
    "    try:\n",
    "        return [g.data for g in list(gtrees[chrom][pos])]\n",
    "    except:\n",
    "        print(chrom, pos)\n",
    "        return None\n",
    "stats = summary_stats.copy()\n",
    "stats['symbol'] = stats.progress_apply(lambda r: get_gene_symbol(r['#CHROM'], r['POS']), axis=1).values\n",
    "stats = stats.explode('symbol')\n",
    "gene_stats = stats.groupby('symbol').progress_apply(lambda x: x.nsmallest(1, 'P')).reset_index(drop=True)"
   ]
  },
  {
   "cell_type": "code",
   "execution_count": null,
   "metadata": {},
   "outputs": [],
   "source": [
    "top_100 = gene_stats.sort_values('P').head(100)\n",
    "hits = gene_stats.loc[gene_stats['P'] < 5e-8].copy()\n",
    "hits[['#CHROM', 'ID', 'symbol', 'P', 'Z_STAT']].sort_values('Z_STAT', ascending=False).head()"
   ]
  },
  {
   "cell_type": "code",
   "execution_count": 168,
   "metadata": {},
   "outputs": [],
   "source": [
    "os.chdir('/home/upamanyu/GWANN/Code_AD/results_Sens8_v4/trad_GWAS')\n",
    "gene_stats.rename(columns={'#CHROM':'Chrom'}).to_csv('trad_GWAS_summary.csv', index=False)\n",
    "top_100.rename(columns={'#CHROM':'Chrom'}).to_csv('trad_GWAS_top_100.csv', index=False)\n",
    "hits.rename(columns={'#CHROM':'Chrom'}).to_csv('trad_GWAS_hits.csv', index=False)"
   ]
  },
  {
   "cell_type": "markdown",
   "metadata": {},
   "source": [
    "# GWANN vs TradGWAS vs EADB GWAS"
   ]
  },
  {
   "cell_type": "markdown",
   "metadata": {},
   "source": [
    "## Overlap of hits"
   ]
  },
  {
   "cell_type": "code",
   "execution_count": 5,
   "metadata": {},
   "outputs": [],
   "source": [
    "os.chdir('/home/upamanyu/GWANN/Code_AD/results_Sens8_v4')\n",
    "gwann = pd.read_csv('LD/r20.8_pruned_gene_hits_1e-25.csv')\n",
    "gwann = gwann.loc[~gwann['pruned']]\n",
    "gwann = gwann.loc[gwann['Gene'] != 'APOE']\n",
    "gwann.sort_values('p_stat_trial_A', inplace=True)\n",
    "gwann['ld_block'] = gwann['ld_block'].apply(lambda x: set(eval(x)))\n",
    "gwann.rename(columns={'Gene':'Hit_Gene', 'ld_block':'Gene'}, inplace=True)\n",
    "\n",
    "trad = pd.read_csv('trad_GWAS/LD/r20.8_pruned_gene_hits_5e-08.csv')\n",
    "trad = trad.loc[~trad['pruned']]\n",
    "trad = trad.loc[trad['symbol'] != 'APOE']\n",
    "trad.rename(columns={'symbol':'Gene'}, inplace=True)\n",
    "trad.sort_values('P', inplace=True)\n",
    "trad['ld_block'] = trad['ld_block'].apply(lambda x: set(eval(x)))\n",
    "trad.rename(columns={'Gene':'Hit_Gene', 'ld_block':'Gene'}, inplace=True)\n",
    "\n",
    "eadb = pd.read_csv('EADB_GWAS_hits.tsv', sep='\\t')\n",
    "eadb = eadb.filter(['CHR_ID', 'CHR_POS', 'REPORTED GENE(S)', 'MAPPED_GENE', 'P-VALUE'])\n",
    "eadb['MAPPED_GENE'] = eadb['MAPPED_GENE'].apply(lambda x: x.split(' - ') if type(x) == str else x)\n",
    "eadb['MAPPED_GENE'] = eadb['MAPPED_GENE'].apply(lambda x: x.split(',') if type(x) == str else x)\n",
    "eadb['MAPPED_GENE'] = eadb['MAPPED_GENE'].apply(lambda x: set(x))\n",
    "eadb = eadb.rename(columns={'MAPPED_GENE':'Gene'})"
   ]
  },
  {
   "cell_type": "code",
   "execution_count": 6,
   "metadata": {},
   "outputs": [
    {
     "name": "stdout",
     "output_type": "stream",
     "text": [
      "17 17 17 GWANN\n",
      "(n=84,220) GWANN\n",
      "(n=84,220) [['BIN1'], ['NRG3'], ['LRRC7'], ['ROR1'], ['RPS6KC1'], ['APH1B'], ['AKR1C6P'], ['SORL1'], ['SRGAP2B'], ['HSP90AB4P'], ['LINGO2'], ['PALD1'], ['PCDH9'], ['ADAM10'], ['SPI1'], ['SMYD3'], ['SYNPO']]\n",
      "\n",
      "1 17 1 GWANN\n",
      "(n=84,220) TradGWAS\n",
      "(n=84,220) [['SORL1']]\n",
      "\n",
      "17 89 4 GWANN\n",
      "(n=84,220) EADB GWAS\n",
      "(n=788,989) [['BIN1'], ['APH1B'], ['SORL1', 'SORL1'], ['SPI1']]\n",
      "\n",
      "1 1 1 TradGWAS\n",
      "(n=84,220) TradGWAS\n",
      "(n=84,220) [['SORL1']]\n",
      "\n",
      "1 89 1 TradGWAS\n",
      "(n=84,220) EADB GWAS\n",
      "(n=788,989) [['SORL1', 'SORL1']]\n",
      "\n",
      "['PLCG2', 'PLCG2']\n",
      "['MME', 'MME']\n",
      "['TREM2', 'TREM2', 'TREM2']\n",
      "['SORL1', 'SORL1']\n",
      "['SLC24A4', 'SLC24A4']\n",
      "89 89 84 EADB GWAS\n",
      "(n=788,989) EADB GWAS\n",
      "(n=788,989) [['SLC24A4', 'SLC24A4'], ['IGHG1', 'IGHG3'], ['IGHV3-64', 'IGHV3-65'], ['SPPL2A', 'RN7SL354P'], ['MINDY2', 'SNORD3P1'], ['APH1B'], ['SNX1'], ['CTSH'], ['DOC2A'], ['BCKDK'], ['IL34'], ['MAF', 'RNA5SP431'], ['PLCG2', 'PLCG2'], ['FENDRR', 'LINC00917'], ['FAM157C'], ['WDR81'], ['ZNF594-DT, SCIMP'], ['MYO15A'], ['GRN'], ['WNT3'], ['ABI3'], ['TSPOAP1-AS1'], ['CYB561', 'PPIAP55'], ['ABCA7'], ['KLF16'], ['SIGLEC11'], ['LILRB2', 'RNU6-1307P'], ['RBCK1'], ['CASS4'], ['SLC2A4RG'], ['APP'], ['ADAMTS1', 'CYYR1'], ['DEDD', 'UFC1'], ['SETD7, QKILA'], ['NDUFAF6'], ['ATP8B4'], ['TNFSF13, TNFSF12-TNFSF13'], ['ARHGAP45'], ['BIN1', 'NIFKP9'], ['WDR12'], ['INPP5D'], ['MME', 'MME'], ['IDUA'], ['LINC02498', 'MIR572'], ['RHOH'], ['ANKH'], ['LINC02059', 'MIR4280HG'], ['TNIP1'], ['RASGEF1C'], ['HLA-DQA1', 'HLA-DRB1'], ['UNC5CL, OARD1'], ['TREM2', 'TREM2', 'TREM2'], ['TREM2', 'TREM2', 'TREML2', 'TREM2'], ['CD2AP'], ['TMEM106B'], ['JAZF1'], ['GPR141', 'NME8'], ['SEC61G-DT', 'EGFR'], ['PMS2P1'], ['EPHA1-AS1'], ['CTSB'], ['PTK2B'], ['CLU'], ['SHARPIN'], ['ABCA1'], ['ECHDC3', 'USP6NL-AS1'], ['LINC01553', 'ANK3'], ['TSPAN14'], ['BLNK'], ['PLEKHA1'], ['SPI1'], ['MS4A4A'], ['LINC02695', 'RNU6-560P'], ['SORL1', 'SORL1'], ['TPCN1'], ['FERMT2'], ['SORT1'], ['CR1'], ['YWHAQ', 'ADAM17'], ['PRKD3'], ['NCK2'], ['ICA1'], ['HDAC2-AS2, HS3ST5'], ['UMAD1']]\n",
      "\n"
     ]
    },
    {
     "data": {
      "text/html": [
       "<div>\n",
       "<style scoped>\n",
       "    .dataframe tbody tr th:only-of-type {\n",
       "        vertical-align: middle;\n",
       "    }\n",
       "\n",
       "    .dataframe tbody tr th {\n",
       "        vertical-align: top;\n",
       "    }\n",
       "\n",
       "    .dataframe thead th {\n",
       "        text-align: right;\n",
       "    }\n",
       "</style>\n",
       "<table border=\"1\" class=\"dataframe\">\n",
       "  <thead>\n",
       "    <tr style=\"text-align: right;\">\n",
       "      <th></th>\n",
       "      <th>GWANN\\n(n=84,220)</th>\n",
       "      <th>TradGWAS\\n(n=84,220)</th>\n",
       "      <th>EADB GWAS\\n(n=788,989)</th>\n",
       "    </tr>\n",
       "  </thead>\n",
       "  <tbody>\n",
       "    <tr>\n",
       "      <th>GWANN</th>\n",
       "      <td>17.0</td>\n",
       "      <td>NaN</td>\n",
       "      <td>NaN</td>\n",
       "    </tr>\n",
       "    <tr>\n",
       "      <th>TradGWAS</th>\n",
       "      <td>1.0</td>\n",
       "      <td>1.0</td>\n",
       "      <td>NaN</td>\n",
       "    </tr>\n",
       "    <tr>\n",
       "      <th>EADB GWAS</th>\n",
       "      <td>4.0</td>\n",
       "      <td>1.0</td>\n",
       "      <td>84.0</td>\n",
       "    </tr>\n",
       "  </tbody>\n",
       "</table>\n",
       "</div>"
      ],
      "text/plain": [
       "           GWANN\\n(n=84,220)  TradGWAS\\n(n=84,220)  EADB GWAS\\n(n=788,989)\n",
       "GWANN                   17.0                   NaN                     NaN\n",
       "TradGWAS                 1.0                   1.0                     NaN\n",
       "EADB GWAS                4.0                   1.0                    84.0"
      ]
     },
     "execution_count": 6,
     "metadata": {},
     "output_type": "execute_result"
    }
   ],
   "source": [
    "xs = {'GWANN\\n(n=84,220)':gwann, 'TradGWAS\\n(n=84,220)':trad, 'EADB GWAS\\n(n=788,989)':eadb}\n",
    "hit_overlap_mat = np.zeros((3, 3))\n",
    "for i, x1 in enumerate(xs.keys()):\n",
    "    for j, x2 in enumerate(xs.keys()):\n",
    "        g1 = xs[x1]['Gene'].values\n",
    "        g2 = xs[x2]['Gene'].values\n",
    "        g_small = g1 if len(g1) < len(g2) else g2\n",
    "        g_large = g2 if len(g1) < len(g2) else g1\n",
    "        g1 = g_small\n",
    "        g2 = g_large\n",
    "        og = []\n",
    "        for g in g1:\n",
    "            o = [list(g.intersection(g_)) for g_ in g2]\n",
    "            isec = [item for sublist in o for item in sublist]\n",
    "            og.append(isec)\n",
    "        og = [ogi for ogi in og if len(ogi) != 0]\n",
    "        og_ = []\n",
    "        for ogi in og:\n",
    "            if ogi not in og_:\n",
    "                og_.append(ogi)\n",
    "            else:\n",
    "                print(ogi)\n",
    "        og = og_\n",
    "        hit_overlap_mat[i, j] = len(og)\n",
    "        # og = set([item for sublist in og for item in sublist])\n",
    "        if i<=j:\n",
    "            print(len(g1), len(g2), len(og), x1, x2, og)\n",
    "            print()\n",
    "hit_overlap_df = pd.DataFrame(np.tril(hit_overlap_mat), index=[x.split('\\n')[0] for x in xs.keys()], columns=xs.keys())\n",
    "hit_overlap_df[hit_overlap_df == 0] = np.nan\n",
    "hit_overlap_df"
   ]
  },
  {
   "cell_type": "markdown",
   "metadata": {},
   "source": [
    "## Overlap of top 100"
   ]
  },
  {
   "cell_type": "code",
   "execution_count": 10,
   "metadata": {},
   "outputs": [],
   "source": [
    "###########################################################\n",
    "# Use if top100 selection should be done after LD pruning #\n",
    "###########################################################\n",
    "\n",
    "# os.chdir('/home/upamanyu/GWANN/Code_AD/results_Sens8_v4')\n",
    "# gwann = pd.read_csv('LD/r20.8_pruned_gene_hits_5e-09.csv')\n",
    "# gwann = gwann.loc[~gwann['pruned']]\n",
    "# gwann.sort_values('p_stat_trial_A', inplace=True)\n",
    "# gwann = gwann.iloc[:100]\n",
    "# gwann = gwann.loc[gwann['Gene'] != 'APOE']\n",
    "\n",
    "# # Overlap with LD block\n",
    "# # gwann['ld_block'] = gwann['ld_block'].apply(lambda x: set(eval(x)))\n",
    "# # gwann.rename(columns={'Gene':'Hit_Gene', 'ld_block':'Gene'}, inplace=True)\n",
    "\n",
    "# # Overlap with hit gene in LD block\n",
    "# gwann['Gene'] = gwann['Gene'].apply(lambda x: set([x]))\n",
    "\n",
    "# trad = pd.read_csv('trad_GWAS/LD/r20.8_pruned_gene_hits_1e-04.csv')\n",
    "# trad = trad.loc[~trad['pruned']]\n",
    "# trad.rename(columns={'symbol':'Gene'}, inplace=True)\n",
    "# trad.sort_values('P', inplace=True)\n",
    "# trad = trad.iloc[:100]\n",
    "# trad = trad.loc[trad['Gene'] != 'APOE']\n",
    "\n",
    "# # Overlap with LD block\n",
    "# # trad['ld_block'] = trad['ld_block'].apply(lambda x: set(eval(x)))\n",
    "# # trad.rename(columns={'Gene':'Hit_Gene', 'ld_block':'Gene'}, inplace=True)\n",
    "\n",
    "# # Overlap with hit gene in LD block\n",
    "# trad['Gene'] = trad['Gene'].apply(lambda x: set([x]))\n",
    "\n",
    "# eadb = pd.read_csv('EADB_GWAS_hits.tsv', sep='\\t')\n",
    "# eadb = eadb.filter(['CHR_ID', 'CHR_POS', 'REPORTED GENE(S)', 'MAPPED_GENE', 'P-VALUE'])\n",
    "# eadb['MAPPED_GENE'] = eadb['MAPPED_GENE'].apply(lambda x: x.split(' - ') if type(x) == str else x)\n",
    "# eadb['MAPPED_GENE'] = eadb['MAPPED_GENE'].apply(lambda x: x.split(',') if type(x) == str else x)\n",
    "# eadb['MAPPED_GENE'] = eadb['MAPPED_GENE'].apply(lambda x: set(x))\n",
    "# eadb = eadb.rename(columns={'MAPPED_GENE':'Gene'})\n",
    "\n",
    "############################################################\n",
    "# Use if top100 selection should be done before LD pruning #\n",
    "############################################################\n",
    "os.chdir('/home/upamanyu/GWANN/Code_AD/results_Sens8_v4')\n",
    "gwann = pd.read_csv('summary_nsuperwins_1_gene_level.csv')\n",
    "gwann.sort_values('p_stat_trial_A', inplace=True)\n",
    "gwann = gwann.iloc[:100]\n",
    "gwann = gwann.loc[gwann['Gene'] != 'APOE']\n",
    "gwann['Gene'] = gwann['Gene'].apply(lambda x: set([x]))\n",
    "\n",
    "trad = pd.read_csv('trad_GWAS/trad_GWAS_top_100.csv')\n",
    "trad.rename(columns={'symbol':'Gene'}, inplace=True)\n",
    "trad.sort_values('P', inplace=True)\n",
    "trad = trad.iloc[:100]\n",
    "trad = trad.loc[trad['Gene'] != 'APOE']\n",
    "trad['Gene'] = trad['Gene'].apply(lambda x: set([x]))\n",
    "\n",
    "eadb = pd.read_csv('EADB_GWAS_hits.tsv', sep='\\t')\n",
    "eadb = eadb.filter(['CHR_ID', 'CHR_POS', 'REPORTED GENE(S)', 'MAPPED_GENE', 'P-VALUE'])\n",
    "eadb['MAPPED_GENE'] = eadb['MAPPED_GENE'].apply(lambda x: x.split(' - ') if type(x) == str else x)\n",
    "eadb['MAPPED_GENE'] = eadb['MAPPED_GENE'].apply(lambda x: x.split(',') if type(x) == str else x)\n",
    "eadb['MAPPED_GENE'] = eadb['MAPPED_GENE'].apply(lambda x: set(x))\n",
    "eadb = eadb.rename(columns={'MAPPED_GENE':'Gene'})"
   ]
  },
  {
   "cell_type": "code",
   "execution_count": 11,
   "metadata": {},
   "outputs": [
    {
     "name": "stdout",
     "output_type": "stream",
     "text": [
      "99 99 99 GWANN\n",
      "(n=84,220) GWANN\n",
      "(n=84,220) [['ZNF296'], ['APOC1P1'], ['RELB'], ['CLPTM1'], ['BCAM'], ['TOMM40'], ['APOC1'], ['BCL3'], ['PPP1R37'], ['CBLC'], ['CEACAM16'], ['BIN1'], ['TRAPPC6A'], ['EXOC3L2'], ['NRG3'], ['LRRC7'], ['ROR1'], ['RPS6KC1'], ['APH1B'], ['AKR1C6P'], ['SORL1'], ['BLOC1S3'], ['SRGAP2B'], ['HSP90AB4P'], ['LINGO2'], ['PALD1'], ['PCDH9'], ['ADAM10'], ['SPI1'], ['SMYD3'], ['SYNPO'], ['PLCB4'], ['CCDC13'], ['HIP1R'], ['SLC35A3'], ['EPHA5'], ['ACOT12'], ['CTSH'], ['RECK'], ['SP140'], ['MAP2K1'], ['MAN1A1'], ['KATNAL2'], ['LOC392364'], ['LOC400940'], ['HMG20A'], ['PICALM'], ['DBT'], ['TFCP2'], ['RAB8B'], ['EPHA1'], ['HKDC1'], ['FHOD3'], ['CEACAM19'], ['R3HDM1'], ['HPSE2'], ['IER3IP1'], ['TRPV1'], ['VPS37B'], ['ZMIZ1-AS1'], ['CASP14'], ['PIAS2'], ['LINC00597'], ['MORF4L1'], ['RCBTB1'], ['PEX14'], ['TRPM7'], ['OR2A7'], ['MPP5'], ['GABRB3'], ['HNRNPA1'], ['MIR2116'], ['DLGAP1'], ['GRHL2'], ['CCDC62'], ['ABCA7'], ['DLC1'], ['EXD3'], ['DIS3L'], ['C8orf34'], ['RBFOX1'], ['MCM6'], ['PEAK1'], ['SCAPER'], ['CCDC13-AS1'], ['LOC374443'], ['LINC00535'], ['KCNJ3'], ['PDSS2'], ['KLF3'], ['INSM1'], ['KRT84'], ['MYT1L'], ['IL6R'], ['RNU5E-1'], ['PLXDC1'], ['FAM135B'], ['CNTNAP4'], ['RAPSN']]\n",
      "\n",
      "99 99 20 GWANN\n",
      "(n=84,220) TradGWAS\n",
      "(n=84,220) [['APOC1'], ['TOMM40'], ['BCAM'], ['APOC1P1'], ['BCL3'], ['CEACAM19'], ['RELB'], ['CLPTM1'], ['PPP1R37'], ['CBLC'], ['TRAPPC6A'], ['BLOC1S3'], ['EXOC3L2'], ['SORL1'], ['PICALM'], ['BIN1'], ['CEACAM16'], ['ADAM10'], ['ABCA7'], ['MCM6']]\n",
      "\n",
      "89 99 6 GWANN\n",
      "(n=84,220) EADB GWAS\n",
      "(n=788,989) [['APH1B'], ['CTSH'], ['ABCA7'], ['BIN1'], ['SPI1'], ['SORL1']]\n",
      "\n",
      "99 99 99 TradGWAS\n",
      "(n=84,220) TradGWAS\n",
      "(n=84,220) [['APOC1'], ['TOMM40'], ['BCAM'], ['APOC1P1'], ['BCL3'], ['CEACAM19'], ['RELB'], ['CLPTM1'], ['APOC4-APOC2'], ['PPP1R37'], ['GEMIN7'], ['CBLC'], ['PVR'], ['TRAPPC6A'], ['NKPD1'], ['CLASRP'], ['BLOC1S3'], ['EXOC3L2'], ['SORL1'], ['PILRA'], ['PICALM'], ['MIR4531'], ['CEACAM22P'], ['BIN1'], ['STAG3'], ['GPC2'], ['IGSF23'], ['ZCWPW1'], ['CCNT2'], ['ACMSD'], ['UBALD2'], ['QRICH2'], ['CAPS'], ['KCNK13'], ['CEACAM16'], ['YAP1'], ['ADAM10'], ['CEACAM20'], ['IL17RC'], ['ABCA7'], ['PVRIG'], ['LRP1B'], ['SVIL'], ['NDUFS2'], ['FCER1G'], ['NYAP1'], ['CNTN4'], ['NALCN'], ['OPRK1'], ['TP73'], ['PIK3C2B'], ['STXBP4'], ['ERCC1'], ['APBB2'], ['USP21'], ['PPOX'], ['B4GALT3'], ['CACNA2D3'], ['VMAC'], ['UFC1'], ['TMPRSS11A'], ['CR1'], ['DIP2A'], ['MCM6'], ['CR1L'], ['DEDD'], ['TMPRSS11D'], ['CAMTA1'], ['STXBP6'], ['DGKG'], ['RASSF8-AS1'], ['RASSF8'], ['AFAP1L1'], ['NRXN1'], ['UBR5'], ['GLI3'], ['RNF38'], ['RELN'], ['NRG1'], ['RIN3'], ['SLC23A1'], ['KAT8'], ['DIP2A-IT1'], ['PLB1'], ['BCKDK'], ['MZB1'], ['ALLC'], ['TNFRSF4'], ['NR2C2'], ['ZFPM2'], ['GPC5'], ['MAP3K19'], ['CCDC85A'], ['VAV3'], ['SLTM'], ['STAC'], ['PPP1R13L'], ['VTA1'], ['PDE1A']]\n",
      "\n",
      "89 99 6 TradGWAS\n",
      "(n=84,220) EADB GWAS\n",
      "(n=788,989) [['BCKDK'], ['ABCA7'], ['UFC1', 'DEDD'], ['BIN1'], ['SORL1'], ['CR1']]\n",
      "\n",
      "89 89 84 EADB GWAS\n",
      "(n=788,989) EADB GWAS\n",
      "(n=788,989) [['SLC24A4', 'SLC24A4'], ['IGHG1', 'IGHG3'], ['IGHV3-64', 'IGHV3-65'], ['SPPL2A', 'RN7SL354P'], ['MINDY2', 'SNORD3P1'], ['APH1B'], ['SNX1'], ['CTSH'], ['DOC2A'], ['BCKDK'], ['IL34'], ['MAF', 'RNA5SP431'], ['PLCG2', 'PLCG2'], ['FENDRR', 'LINC00917'], ['FAM157C'], ['WDR81'], ['ZNF594-DT, SCIMP'], ['MYO15A'], ['GRN'], ['WNT3'], ['ABI3'], ['TSPOAP1-AS1'], ['CYB561', 'PPIAP55'], ['ABCA7'], ['KLF16'], ['SIGLEC11'], ['LILRB2', 'RNU6-1307P'], ['RBCK1'], ['CASS4'], ['SLC2A4RG'], ['APP'], ['ADAMTS1', 'CYYR1'], ['DEDD', 'UFC1'], ['SETD7, QKILA'], ['NDUFAF6'], ['ATP8B4'], ['TNFSF13, TNFSF12-TNFSF13'], ['ARHGAP45'], ['BIN1', 'NIFKP9'], ['WDR12'], ['INPP5D'], ['MME', 'MME'], ['IDUA'], ['LINC02498', 'MIR572'], ['RHOH'], ['ANKH'], ['LINC02059', 'MIR4280HG'], ['TNIP1'], ['RASGEF1C'], ['HLA-DQA1', 'HLA-DRB1'], ['UNC5CL, OARD1'], ['TREM2', 'TREM2', 'TREM2'], ['TREM2', 'TREM2', 'TREML2', 'TREM2'], ['CD2AP'], ['TMEM106B'], ['JAZF1'], ['GPR141', 'NME8'], ['SEC61G-DT', 'EGFR'], ['PMS2P1'], ['EPHA1-AS1'], ['CTSB'], ['PTK2B'], ['CLU'], ['SHARPIN'], ['ABCA1'], ['ECHDC3', 'USP6NL-AS1'], ['LINC01553', 'ANK3'], ['TSPAN14'], ['BLNK'], ['PLEKHA1'], ['SPI1'], ['MS4A4A'], ['LINC02695', 'RNU6-560P'], ['SORL1', 'SORL1'], ['TPCN1'], ['FERMT2'], ['SORT1'], ['CR1'], ['YWHAQ', 'ADAM17'], ['PRKD3'], ['NCK2'], ['ICA1'], ['HDAC2-AS2, HS3ST5'], ['UMAD1']]\n",
      "\n"
     ]
    },
    {
     "data": {
      "text/html": [
       "<div>\n",
       "<style scoped>\n",
       "    .dataframe tbody tr th:only-of-type {\n",
       "        vertical-align: middle;\n",
       "    }\n",
       "\n",
       "    .dataframe tbody tr th {\n",
       "        vertical-align: top;\n",
       "    }\n",
       "\n",
       "    .dataframe thead th {\n",
       "        text-align: right;\n",
       "    }\n",
       "</style>\n",
       "<table border=\"1\" class=\"dataframe\">\n",
       "  <thead>\n",
       "    <tr style=\"text-align: right;\">\n",
       "      <th></th>\n",
       "      <th>GWANN\\n(n=84,220)</th>\n",
       "      <th>TradGWAS\\n(n=84,220)</th>\n",
       "      <th>EADB GWAS\\n(n=788,989)</th>\n",
       "    </tr>\n",
       "  </thead>\n",
       "  <tbody>\n",
       "    <tr>\n",
       "      <th>GWANN</th>\n",
       "      <td>99.0</td>\n",
       "      <td>NaN</td>\n",
       "      <td>NaN</td>\n",
       "    </tr>\n",
       "    <tr>\n",
       "      <th>TradGWAS</th>\n",
       "      <td>20.0</td>\n",
       "      <td>99.0</td>\n",
       "      <td>NaN</td>\n",
       "    </tr>\n",
       "    <tr>\n",
       "      <th>EADB GWAS</th>\n",
       "      <td>6.0</td>\n",
       "      <td>6.0</td>\n",
       "      <td>84.0</td>\n",
       "    </tr>\n",
       "  </tbody>\n",
       "</table>\n",
       "</div>"
      ],
      "text/plain": [
       "           GWANN\\n(n=84,220)  TradGWAS\\n(n=84,220)  EADB GWAS\\n(n=788,989)\n",
       "GWANN                   99.0                   NaN                     NaN\n",
       "TradGWAS                20.0                  99.0                     NaN\n",
       "EADB GWAS                6.0                   6.0                    84.0"
      ]
     },
     "execution_count": 11,
     "metadata": {},
     "output_type": "execute_result"
    }
   ],
   "source": [
    "# Overlap between all combinations of GWANN, TradGWAS and EADB\n",
    "xs = {'GWANN\\n(n=84,220)':gwann, 'TradGWAS\\n(n=84,220)':trad, 'EADB GWAS\\n(n=788,989)':eadb}\n",
    "overlap_mat = np.zeros((3, 3))\n",
    "for i, x1 in enumerate(xs.keys()):\n",
    "    for j, x2 in enumerate(xs.keys()):\n",
    "        g1 = xs[x1]['Gene'].values\n",
    "        g2 = xs[x2]['Gene'].values\n",
    "        g_small = g1 if len(g1) < len(g2) else g2\n",
    "        g_large = g2 if len(g1) < len(g2) else g1\n",
    "        g1 = g_small\n",
    "        g2 = g_large\n",
    "        og = []\n",
    "        for g in g1:\n",
    "            o = [list(g.intersection(g_)) for g_ in g2]\n",
    "            isec = [item for sublist in o for item in sublist]\n",
    "            og.append(isec)\n",
    "        og = [ogi for ogi in og if len(ogi) != 0]\n",
    "        og_ = []\n",
    "        for ogi in og:\n",
    "            if ogi not in og_:\n",
    "                og_.append(ogi)\n",
    "        og = og_\n",
    "        overlap_mat[i, j] = len(og)\n",
    "        # og = set([item for sublist in og for item in sublist])\n",
    "        if i<=j:\n",
    "            print(len(g1), len(g2), len(og), x1, x2, og)\n",
    "            print()\n",
    "\n",
    "overlap_df = pd.DataFrame(np.tril(overlap_mat), index=[x.split('\\n')[0] for x in xs.keys()], columns=xs.keys())\n",
    "overlap_df[overlap_df == 0] = np.nan\n",
    "overlap_df"
   ]
  },
  {
   "cell_type": "markdown",
   "metadata": {},
   "source": [
    "## Overlap plot"
   ]
  },
  {
   "cell_type": "code",
   "execution_count": 12,
   "metadata": {},
   "outputs": [
    {
     "data": {
      "image/png": "[encoded data removed]",
      "text/plain": [
       "<Figure size 550x1000 with 2 Axes>"
      ]
     },
     "metadata": {},
     "output_type": "display_data"
    }
   ],
   "source": [
    "fig, axes = plt.subplots(2, 1,  figsize=(5.5, 10))\n",
    "axes = axes.flatten()\n",
    "\n",
    "for i, df in enumerate([hit_overlap_df, overlap_df]):\n",
    "    plot_df = df.copy()\n",
    "    for j in range(plot_df.shape[0]):\n",
    "        plot_df.iloc[j, j] = np.nan\n",
    "    sns.heatmap(plot_df, annot=True, cmap='Reds', ax=axes[i], cbar=False)\n",
    "    # Add annotation for diagonal\n",
    "    for j in range(plot_df.shape[0]):\n",
    "        axes[i].text(j+0.5, j+0.5, int(df.iloc[j, j]), ha='center', va='center', \n",
    "                    fontsize=16, color='black')\n",
    "\n",
    "# sns.heatmap(hit_overlap_df.iloc[1:, :].iloc[:, :-1], annot=True, cmap='Reds', ax=axes[0], cbar=False)\n",
    "# sns.heatmap(overlap_df.iloc[1:, :].iloc[:, :-1], annot=True, cmap='Reds', ax=axes[1], cbar=False)\n",
    "\n",
    "for ax in axes:\n",
    "    ax.set_xticklabels(ax.get_xticklabels(), fontsize = 16)\n",
    "    ax.set_yticklabels(ax.get_yticklabels(), fontsize = 16)\n",
    "    for t in ax.texts:\n",
    "        t.set_fontsize(16)\n",
    "\n",
    "fig.tight_layout()\n",
    "fig.subplots_adjust(hspace=0.3)\n",
    "plt.show()\n",
    "fig.savefig('enrichments/GWANN_EADB_GWAS_overlap.png', dpi=300)"
   ]
  },
  {
   "cell_type": "markdown",
   "metadata": {},
   "source": [
    "# Query summary stats"
   ]
  },
  {
   "cell_type": "markdown",
   "metadata": {},
   "source": [
    "## Hits table"
   ]
  },
  {
   "cell_type": "code",
   "execution_count": 7,
   "metadata": {},
   "outputs": [],
   "source": [
    "import sys\n",
    "sys.path.append('/home/upamanyu/GWANN')\n",
    "from GWANN.dataset_utils import get_win_snps\n",
    "\n",
    "gdf = pd.read_csv('../../GWANN/datatables/gene_annot.csv')\n",
    "gdf.set_index('symbol', inplace=True)"
   ]
  },
  {
   "cell_type": "code",
   "execution_count": 18,
   "metadata": {},
   "outputs": [],
   "source": [
    "def win_interval(x):\n",
    "    snp_df = get_win_snps(chrom=str(x['Chrom']), start=x['gene_start'], \n",
    "                          end=x['gene_end'], win=x['Win'], \n",
    "                          pgen_data=f'/mnt/sdh/upamanyu/GWANN/GWANN_pgen/UKB_chr{x[\"Chrom\"]}.pvar')\n",
    "    return f'{x[\"Chrom\"]}:{int(snp_df[\"POS\"].min())}-{int(snp_df[\"POS\"].max())}'\n",
    "\n",
    "hits = pd.read_csv('/home/upamanyu/GWANN/Code_AD/results_Sens8_v4/LD/pruned_gene_hits_1e-25.csv')\n",
    "hits = hits.loc[~hits['pruned']]\n",
    "hits['gene_start'] = gdf.loc[hits['Gene'], 'start'].values - 2500\n",
    "hits['gene_end'] = gdf.loc[hits['Gene'], 'end'].values + 2500\n",
    "hits['win_interval'] = hits.apply(lambda x: win_interval(x), axis=1)"
   ]
  },
  {
   "cell_type": "code",
   "execution_count": 19,
   "metadata": {},
   "outputs": [],
   "source": [
    "hits = hits[['Gene', 'win_interval', 'p_stat_trial_A']]\n",
    "hits.rename(columns={'win_interval':'Genomic inteval', 'p_stat_trial_A':'P-value'}, inplace=True)\n",
    "hits.sort_values(['P-value'], inplace=True)\n",
    "# Set 0 P-values to min nonzero P-value / 10\n",
    "hits.loc[hits['P-value'] == 0, 'P-value'] = 6.95270123751886e-160\n",
    "hits.to_excel('/home/upamanyu/GWANN/Code_AD/results_Sens8_v4/Hits_table.xlsx', index=False)"
   ]
  },
  {
   "cell_type": "markdown",
   "metadata": {},
   "source": [
    "## Query by name"
   ]
  },
  {
   "cell_type": "code",
   "execution_count": 16,
   "metadata": {},
   "outputs": [],
   "source": [
    "summary_df = pd.read_csv('../results_Sens8_v4/summary_nsuperwins_1_gene_level.csv')"
   ]
  },
  {
   "cell_type": "code",
   "execution_count": 19,
   "metadata": {},
   "outputs": [
    {
     "data": {
      "text/html": [
       "<div>\n",
       "<style scoped>\n",
       "    .dataframe tbody tr th:only-of-type {\n",
       "        vertical-align: middle;\n",
       "    }\n",
       "\n",
       "    .dataframe tbody tr th {\n",
       "        vertical-align: top;\n",
       "    }\n",
       "\n",
       "    .dataframe thead th {\n",
       "        text-align: right;\n",
       "    }\n",
       "</style>\n",
       "<table border=\"1\" class=\"dataframe\">\n",
       "  <thead>\n",
       "    <tr style=\"text-align: right;\">\n",
       "      <th></th>\n",
       "      <th>Gene</th>\n",
       "      <th>Chrom</th>\n",
       "      <th>stat_trial_A</th>\n",
       "      <th>count_A</th>\n",
       "      <th>p_stat_trial_A</th>\n",
       "      <th>num_seeds</th>\n",
       "      <th>random_seed</th>\n",
       "      <th>Win</th>\n",
       "    </tr>\n",
       "  </thead>\n",
       "  <tbody>\n",
       "    <tr>\n",
       "      <th>41</th>\n",
       "      <td>MAP2K1</td>\n",
       "      <td>15</td>\n",
       "      <td>0.691632</td>\n",
       "      <td>16</td>\n",
       "      <td>6.110622e-22</td>\n",
       "      <td>16</td>\n",
       "      <td>12</td>\n",
       "      <td>0</td>\n",
       "    </tr>\n",
       "    <tr>\n",
       "      <th>157</th>\n",
       "      <td>UFC1</td>\n",
       "      <td>1</td>\n",
       "      <td>0.692122</td>\n",
       "      <td>16</td>\n",
       "      <td>2.410792e-11</td>\n",
       "      <td>16</td>\n",
       "      <td>12</td>\n",
       "      <td>0</td>\n",
       "    </tr>\n",
       "    <tr>\n",
       "      <th>224</th>\n",
       "      <td>CCDC92</td>\n",
       "      <td>12</td>\n",
       "      <td>0.692232</td>\n",
       "      <td>16</td>\n",
       "      <td>1.833973e-09</td>\n",
       "      <td>16</td>\n",
       "      <td>12</td>\n",
       "      <td>1</td>\n",
       "    </tr>\n",
       "  </tbody>\n",
       "</table>\n",
       "</div>"
      ],
      "text/plain": [
       "       Gene  Chrom  stat_trial_A  count_A  p_stat_trial_A  num_seeds  \\\n",
       "41   MAP2K1     15      0.691632       16    6.110622e-22         16   \n",
       "157    UFC1      1      0.692122       16    2.410792e-11         16   \n",
       "224  CCDC92     12      0.692232       16    1.833973e-09         16   \n",
       "\n",
       "     random_seed  Win  \n",
       "41            12    0  \n",
       "157           12    0  \n",
       "224           12    1  "
      ]
     },
     "execution_count": 19,
     "metadata": {},
     "output_type": "execute_result"
    }
   ],
   "source": [
    "query_genes = ['MAP2K1', 'UFC1', 'CCDC92']\n",
    "view = summary_df.loc[summary_df['Gene'].isin(query_genes)]\n",
    "# view = summary_df.loc[np.any([summary_df['Gene'].str.contains(qg) for qg in query_genes], axis=0)]\n",
    "view"
   ]
  },
  {
   "cell_type": "markdown",
   "metadata": {},
   "source": [
    "# GSEA  "
   ]
  },
  {
   "cell_type": "markdown",
   "metadata": {},
   "source": [
    "## Find pathways with hits in the leading edge"
   ]
  },
  {
   "cell_type": "code",
   "execution_count": 3,
   "metadata": {},
   "outputs": [],
   "source": [
    "pathways = ['Reactome', 'KEGG_Legacy', 'Wiki', 'GO']\n",
    "entrez_hgnc_map = pd.read_csv('/home/upamanyu/GWANN/Code_AD/results_Sens8_v4/entrez_glist.csv', dtype=str)\n",
    "entrez_hgnc_map = entrez_hgnc_map.set_index('entrezgene_id')['hgnc_symbol'].to_dict()"
   ]
  },
  {
   "cell_type": "code",
   "execution_count": 4,
   "metadata": {},
   "outputs": [],
   "source": [
    "pw_dfs = {}\n",
    "for pw in pathways:\n",
    "    pw_df = pd.read_csv(f'/home/upamanyu/GWANN/Code_AD/results_Sens8_v4/enrichments/fGSEA_{pw}.csv', \n",
    "                        dtype={'hits_overlap': str})\n",
    "    pw_df = pw_df.loc[~pw_df['hits_overlap'].isnull()]\n",
    "    pw_df['hits'] = pw_df['hits_overlap'].apply(lambda x: ';'.join([entrez_hgnc_map[y] for y in x.split(';')])).values\n",
    "    pw_df = pw_df[['pathway', 'padj', 'hits']]\n",
    "    pw_df['hits_len'] = pw_df['hits'].apply(lambda x: len(x.split(';')))\n",
    "    pw_df.sort_values(['hits_len', 'padj'], ascending=[False, True], inplace=True)\n",
    "    pw_dfs[pw] = pw_df"
   ]
  },
  {
   "cell_type": "markdown",
   "metadata": {},
   "source": [
    "## Query enriched pathways for hit genes"
   ]
  },
  {
   "cell_type": "code",
   "execution_count": 11,
   "metadata": {},
   "outputs": [
    {
     "name": "stdout",
     "output_type": "stream",
     "text": [
      "Pathway                                                                                              Hits\n",
      "\n",
      "\n",
      "\n",
      "GOBP_ESTABLISHMENT_OR_MAINTENANCE_OF_CELL_POLARITY                                                   LRRC7\n",
      "GOBP_POSITIVE_REGULATION_OF_CELL_PROJECTION_ORGANIZATION                                             APOE;LRRC7;ROR1\n",
      "GOBP_POSITIVE_REGULATION_OF_NEURON_PROJECTION_DEVELOPMENT                                            APOE;LRRC7;ROR1\n",
      "GOBP_RECEPTOR_LOCALIZATION_TO_SYNAPSE                                                                LRRC7;ADAM10\n",
      "GOBP_REGULATION_OF_NEURON_PROJECTION_DEVELOPMENT                                                     APOE;LRRC7;ROR1\n",
      "GOCC_ADHERENS_JUNCTION                                                                               LRRC7;ADAM10\n",
      "GOCC_BASAL_PART_OF_CELL                                                                              LRRC7\n",
      "GOCC_BASOLATERAL_PLASMA_MEMBRANE                                                                     LRRC7\n",
      "GOCC_CELL_CELL_JUNCTION                                                                              LRRC7;PCDH9;ADAM10;SYNPO\n",
      "GOCC_MAIN_AXON                                                                                       BIN1;LRRC7\n",
      "GOCC_NEURON_TO_NEURON_SYNAPSE                                                                        LRRC7;ADAM10;SYNPO\n",
      "GOCC_POSTSYNAPTIC_MEMBRANE                                                                           LRRC7\n",
      "GOCC_POSTSYNAPTIC_SPECIALIZATION                                                                     LRRC7;ADAM10;SYNPO\n",
      "GOCC_SYNAPTIC_MEMBRANE                                                                               LRRC7;ADAM10\n",
      "\n"
     ]
    }
   ],
   "source": [
    "def get_intersection(a, b, perfect=False):\n",
    "    a = a.split(';')\n",
    "    if perfect:\n",
    "        return set(a) & set(b) == set(b)\n",
    "    else:\n",
    "        return len(set(a) & set(b)) != 0\n",
    "\n",
    "# query_genes = ['ROR1', 'LINGO2', 'LRRC7', 'NRG3', 'SMYD3', 'PCDH9', 'SYNPO']\n",
    "query_genes = ['LRRC7']\n",
    "perfect = True\n",
    "pd.set_option('display.max_colwidth', None)\n",
    "print(f'{\"Pathway\":<100} {\"Hits\"}')\n",
    "for pw, pw_df in pw_dfs.items():\n",
    "    view = pw_df.loc[pw_df['hits'].apply(lambda x:get_intersection(x, query_genes, perfect))].sort_values('pathway')\n",
    "    for i, row in view.iterrows():\n",
    "        print(f'{row[\"pathway\"]:<100} {row[\"hits\"]}')\n",
    "    print()"
   ]
  },
  {
   "cell_type": "markdown",
   "metadata": {},
   "source": [
    "# Transcriptomic DEG enrichment (Patel et. al. studies)"
   ]
  },
  {
   "cell_type": "markdown",
   "metadata": {},
   "source": [
    "## Combine DEG dataframes"
   ]
  },
  {
   "cell_type": "code",
   "execution_count": 27,
   "metadata": {},
   "outputs": [
    {
     "name": "stdout",
     "output_type": "stream",
     "text": [
      "AD\n",
      "region\n",
      "cerebellum     867\n",
      "frontal        460\n",
      "parietal      1736\n",
      "temporal       323\n",
      "Name: Entrez_Gene_ID, dtype: int64\n",
      "\n",
      "non_AD\n",
      "region\n",
      "cerebellum     177\n",
      "frontal        149\n",
      "parietal      2611\n",
      "temporal        51\n",
      "Name: Entrez_Gene_ID, dtype: int64\n",
      "\n",
      "only_AD\n",
      "region\n",
      "cerebellum     828\n",
      "frontal        435\n",
      "parietal      1023\n",
      "temporal       323\n",
      "Name: Entrez_Gene_ID, dtype: int64\n",
      "\n"
     ]
    }
   ],
   "source": [
    "# AD: DEGs in AD\n",
    "# mental_disord: DEGs in any mental disorder (including AD)\n",
    "# non_AD: DEGs in only non AD mental disorders\n",
    "# only_AD: DEGs in AD but not in any other mental disorder\n",
    "patel1_dfs = {'AD':None, 'non_AD':None, 'only_AD':None}\n",
    "for g in patel1_dfs.keys():\n",
    "    patel1_df = pd.read_csv(f'/mnt/sdb/Patel1/{g}_DEG.csv', \n",
    "                            dtype={'Entrez_Gene_ID':int})\n",
    "    patel1_df = patel1_df[['Entrez_Gene_ID', 'Gene_Symbol', 'AW_FDR_adjusted_p_val', 'region']]\n",
    "    patel1_df = patel1_df.loc[patel1_df['AW_FDR_adjusted_p_val'] < 0.05]\n",
    "    patel1_df = patel1_df[['Entrez_Gene_ID', 'Gene_Symbol', 'region']]\n",
    "    patel1_df.drop_duplicates(inplace=True)\n",
    "    patel1_df['Entrez_Gene_ID'] = patel1_df['Entrez_Gene_ID'].astype(str)\n",
    "    print(g)\n",
    "    print(patel1_df.groupby('region')['Entrez_Gene_ID'].count())\n",
    "    print()\n",
    "    patel1_dfs[g] = patel1_df"
   ]
  },
  {
   "cell_type": "code",
   "execution_count": 28,
   "metadata": {},
   "outputs": [
    {
     "name": "stdout",
     "output_type": "stream",
     "text": [
      "AD\n",
      "region\n",
      "cerebellum     176\n",
      "entorhinal    1690\n",
      "frontal        299\n",
      "temporal      1517\n",
      "Name: Entrez_Gene_ID, dtype: int64\n",
      "\n",
      "AsymAD\n",
      "region\n",
      "cerebellum      1\n",
      "entorhinal     19\n",
      "frontal       398\n",
      "temporal      253\n",
      "Name: Entrez_Gene_ID, dtype: int64\n",
      "\n",
      "AD_AsymAD\n",
      "region\n",
      "cerebellum      13\n",
      "entorhinal    1904\n",
      "frontal         52\n",
      "temporal      1546\n",
      "Name: Entrez_Gene_ID, dtype: int64\n",
      "\n"
     ]
    }
   ],
   "source": [
    "# Find genes differentially expressed between (i) AD and controls or \n",
    "# (ii) AsymAD and controls\n",
    "patel2_dfs = {'AD':None, 'AsymAD':None, 'AD_AsymAD':None}\n",
    "patel2_df = pd.read_csv('/mnt/sdb/Patel2/DEG.csv', dtype={'Entrez_Gene_ID':int})\n",
    "patel2_df = patel2_df[['Entrez_Gene_ID', 'Gene_Symbol', 'AD vs AsymAD.P.val', 'AsymAD vs CO.P.val', 'AD vs CO.P.val', 'region']]\n",
    "\n",
    "for g in patel2_dfs.keys():\n",
    "    try:\n",
    "        g1, g2 = g.split('_')\n",
    "    except:\n",
    "        g1 = g\n",
    "        g2 = 'CO'\n",
    "    \n",
    "    df = patel2_df.loc[patel2_df[f'{g1} vs {g2}.P.val'] < 0.05].copy()\n",
    "    df = df[['Entrez_Gene_ID', 'Gene_Symbol', 'region']]\n",
    "    df.drop_duplicates(inplace=True)\n",
    "    df['Entrez_Gene_ID'] = df['Entrez_Gene_ID'].astype(str)\n",
    "    print(g)\n",
    "    print(df.groupby('region')['Entrez_Gene_ID'].count())\n",
    "    print()\n",
    "    patel2_dfs[g] = df"
   ]
  },
  {
   "cell_type": "markdown",
   "metadata": {},
   "source": [
    "## Convert DEG dicts to GMT files to use with fGSEA"
   ]
  },
  {
   "cell_type": "code",
   "execution_count": 29,
   "metadata": {},
   "outputs": [
    {
     "name": "stdout",
     "output_type": "stream",
     "text": [
      "AD\n",
      "non_AD\n",
      "only_AD\n",
      "AD\n",
      "AsymAD\n",
      "AD_AsymAD\n"
     ]
    }
   ],
   "source": [
    "patel1_dict = {}\n",
    "for g in patel1_dfs.keys():\n",
    "    print(g)\n",
    "    df = patel1_dfs[g].copy()\n",
    "    deg_dict = df.groupby('region')['Entrez_Gene_ID'].apply(list).to_dict() \n",
    "    patel1_dict.update({f'Patel1_{g}_{k}': v for k, v in deg_dict.items()})\n",
    "\n",
    "patel2_dict = {}\n",
    "for g in patel2_dfs.keys():\n",
    "    print(g)\n",
    "    df = patel2_dfs[g].copy()\n",
    "    deg_dict = df.groupby('region')['Entrez_Gene_ID'].apply(list).to_dict() \n",
    "    patel2_dict.update({f'Patel2_{g}_{k}': v for k, v in deg_dict.items()})\n",
    "\n",
    "deg_dict = {**patel1_dict, **patel2_dict}\n",
    "gmt_text = ''\n",
    "for k, v in deg_dict.items():\n",
    "    gmt_text += f'{k.upper()}\\t' + 'no_website\\t' + '\\t'.join(v) + '\\n'\n",
    "with open('Patel_DEG.entrez.gmt', 'w') as f:\n",
    "    f.write(gmt_text)"
   ]
  },
  {
   "cell_type": "markdown",
   "metadata": {},
   "source": [
    "## Intersection over union of DEGs between two studies"
   ]
  },
  {
   "cell_type": "code",
   "execution_count": 30,
   "metadata": {},
   "outputs": [
    {
     "name": "stdout",
     "output_type": "stream",
     "text": [
      "Region       AuB       A^B       A-B       B-A       \n",
      "\n",
      "temporal   : 1782      166       157       1459      \n",
      "           :           0.0932    0.0881    0.8187\n",
      "frontal    : 921       95        365       461       \n",
      "           :           0.1031    0.3963    0.5005\n",
      "cerebellum : 954       89        778       87        \n",
      "           :           0.0933    0.8155    0.0912\n"
     ]
    }
   ],
   "source": [
    "print(f'{\"Region\":<10}   {\"AuB\":<10}{\"A^B\":<10}{\"A-B\":<10}{\"B-A\":<10}\\n')\n",
    "for region in ['temporal', 'frontal', 'cerebellum']:\n",
    "    aunib = len(set(deg_dict[f'Patel1_{region}']).union(set(deg_dict[f'Patel2_{region}'])))\n",
    "    aintb = len(set(deg_dict[f'Patel1_{region}']).intersection(set(deg_dict[f'Patel2_{region}'])))\n",
    "    adiffb = len(set(deg_dict[f'Patel1_{region}']).difference(set(deg_dict[f'Patel2_{region}'])))\n",
    "    bdiffa = len(set(deg_dict[f'Patel2_{region}']).difference(set(deg_dict[f'Patel1_{region}'])))\n",
    "    print(f'{region:<10} : {aunib:<10}{aintb:<10}{adiffb:<10}{bdiffa:<10}')\n",
    "    print(f'{\"\":<10} : {\"\":<10}{aintb/aunib:.4f}    {adiffb/aunib:.4f}    {bdiffa/aunib:.4f}')\n",
    "    "
   ]
  },
  {
   "cell_type": "markdown",
   "metadata": {},
   "source": [
    "## fGSEA results to table"
   ]
  },
  {
   "cell_type": "code",
   "execution_count": 5,
   "metadata": {},
   "outputs": [
    {
     "name": "stdout",
     "output_type": "stream",
     "text": [
      "Patel1\n",
      "Condition           Ad                 Non Ad                Only Ad  \\\n",
      "               P-value hits_overlap   P-value hits_overlap   P-value   \n",
      "Brain Region                                                           \n",
      "Cerebellum    0.007305          NaN  0.004396          NaN  0.010365   \n",
      "Frontal       0.022359         6653  0.000437          NaN  0.044955   \n",
      "Parietal           0.0     348;6653       0.0     348;6653  0.001844   \n",
      "Temporal        0.0018          NaN   0.84679          NaN    0.0018   \n",
      "\n",
      "Condition                  \n",
      "             hits_overlap  \n",
      "Brain Region               \n",
      "Cerebellum            NaN  \n",
      "Frontal              6653  \n",
      "Parietal              NaN  \n",
      "Temporal              NaN  \n",
      "\n",
      "Patel2\n",
      "Condition           Ad              Ad Asymad    Asymad             \n",
      "               P-value hits_overlap   P-value   P-value hits_overlap\n",
      "Brain Region                                                        \n",
      "Cerebellum    0.135864          348  0.493906  0.896495          NaN\n",
      "Entorhinal     0.00029         6653    0.0018  0.919081          NaN\n",
      "Frontal       0.135864          348  0.713572  0.014989          348\n",
      "Temporal        0.0018          NaN  0.009147  0.258689          NaN\n",
      "\n"
     ]
    },
    {
     "data": {
      "text/html": [
       "<div>\n",
       "<style scoped>\n",
       "    .dataframe tbody tr th:only-of-type {\n",
       "        vertical-align: middle;\n",
       "    }\n",
       "\n",
       "    .dataframe tbody tr th {\n",
       "        vertical-align: top;\n",
       "    }\n",
       "\n",
       "    .dataframe thead th {\n",
       "        text-align: right;\n",
       "    }\n",
       "</style>\n",
       "<table border=\"1\" class=\"dataframe\">\n",
       "  <thead>\n",
       "    <tr style=\"text-align: right;\">\n",
       "      <th></th>\n",
       "      <th></th>\n",
       "      <th>Condition</th>\n",
       "      <th>Ad</th>\n",
       "      <th>Ad Asymad</th>\n",
       "      <th>Asymad</th>\n",
       "      <th>Non Ad</th>\n",
       "      <th>Only Ad</th>\n",
       "    </tr>\n",
       "    <tr>\n",
       "      <th>Study</th>\n",
       "      <th>Brain Region</th>\n",
       "      <th></th>\n",
       "      <th></th>\n",
       "      <th></th>\n",
       "      <th></th>\n",
       "      <th></th>\n",
       "      <th></th>\n",
       "    </tr>\n",
       "  </thead>\n",
       "  <tbody>\n",
       "    <tr>\n",
       "      <th rowspan=\"6\" valign=\"top\">Patel1</th>\n",
       "      <th>Cerebellum</th>\n",
       "      <th>P-value</th>\n",
       "      <td>0.007305</td>\n",
       "      <td>NaN</td>\n",
       "      <td>NaN</td>\n",
       "      <td>0.004396</td>\n",
       "      <td>0.010365</td>\n",
       "    </tr>\n",
       "    <tr>\n",
       "      <th rowspan=\"2\" valign=\"top\">Frontal</th>\n",
       "      <th>P-value</th>\n",
       "      <td>0.022359</td>\n",
       "      <td>NaN</td>\n",
       "      <td>NaN</td>\n",
       "      <td>0.000437</td>\n",
       "      <td>0.044955</td>\n",
       "    </tr>\n",
       "    <tr>\n",
       "      <th>hits_overlap</th>\n",
       "      <td>6653</td>\n",
       "      <td>NaN</td>\n",
       "      <td>NaN</td>\n",
       "      <td>NaN</td>\n",
       "      <td>6653</td>\n",
       "    </tr>\n",
       "    <tr>\n",
       "      <th rowspan=\"2\" valign=\"top\">Parietal</th>\n",
       "      <th>P-value</th>\n",
       "      <td>0.0</td>\n",
       "      <td>NaN</td>\n",
       "      <td>NaN</td>\n",
       "      <td>0.0</td>\n",
       "      <td>0.001844</td>\n",
       "    </tr>\n",
       "    <tr>\n",
       "      <th>hits_overlap</th>\n",
       "      <td>348;6653</td>\n",
       "      <td>NaN</td>\n",
       "      <td>NaN</td>\n",
       "      <td>348;6653</td>\n",
       "      <td>NaN</td>\n",
       "    </tr>\n",
       "    <tr>\n",
       "      <th>Temporal</th>\n",
       "      <th>P-value</th>\n",
       "      <td>0.0018</td>\n",
       "      <td>NaN</td>\n",
       "      <td>NaN</td>\n",
       "      <td>0.84679</td>\n",
       "      <td>0.0018</td>\n",
       "    </tr>\n",
       "    <tr>\n",
       "      <th rowspan=\"7\" valign=\"top\">Patel2</th>\n",
       "      <th rowspan=\"2\" valign=\"top\">Cerebellum</th>\n",
       "      <th>P-value</th>\n",
       "      <td>0.135864</td>\n",
       "      <td>0.493906</td>\n",
       "      <td>0.896495</td>\n",
       "      <td>NaN</td>\n",
       "      <td>NaN</td>\n",
       "    </tr>\n",
       "    <tr>\n",
       "      <th>hits_overlap</th>\n",
       "      <td>348</td>\n",
       "      <td>NaN</td>\n",
       "      <td>NaN</td>\n",
       "      <td>NaN</td>\n",
       "      <td>NaN</td>\n",
       "    </tr>\n",
       "    <tr>\n",
       "      <th rowspan=\"2\" valign=\"top\">Entorhinal</th>\n",
       "      <th>P-value</th>\n",
       "      <td>0.00029</td>\n",
       "      <td>0.0018</td>\n",
       "      <td>0.919081</td>\n",
       "      <td>NaN</td>\n",
       "      <td>NaN</td>\n",
       "    </tr>\n",
       "    <tr>\n",
       "      <th>hits_overlap</th>\n",
       "      <td>6653</td>\n",
       "      <td>NaN</td>\n",
       "      <td>NaN</td>\n",
       "      <td>NaN</td>\n",
       "      <td>NaN</td>\n",
       "    </tr>\n",
       "    <tr>\n",
       "      <th rowspan=\"2\" valign=\"top\">Frontal</th>\n",
       "      <th>P-value</th>\n",
       "      <td>0.135864</td>\n",
       "      <td>0.713572</td>\n",
       "      <td>0.014989</td>\n",
       "      <td>NaN</td>\n",
       "      <td>NaN</td>\n",
       "    </tr>\n",
       "    <tr>\n",
       "      <th>hits_overlap</th>\n",
       "      <td>348</td>\n",
       "      <td>NaN</td>\n",
       "      <td>348</td>\n",
       "      <td>NaN</td>\n",
       "      <td>NaN</td>\n",
       "    </tr>\n",
       "    <tr>\n",
       "      <th>Temporal</th>\n",
       "      <th>P-value</th>\n",
       "      <td>0.0018</td>\n",
       "      <td>0.009147</td>\n",
       "      <td>0.258689</td>\n",
       "      <td>NaN</td>\n",
       "      <td>NaN</td>\n",
       "    </tr>\n",
       "  </tbody>\n",
       "</table>\n",
       "</div>"
      ],
      "text/plain": [
       "Condition                               Ad Ad Asymad    Asymad    Non Ad  \\\n",
       "Study  Brain Region                                                        \n",
       "Patel1 Cerebellum   P-value       0.007305       NaN       NaN  0.004396   \n",
       "       Frontal      P-value       0.022359       NaN       NaN  0.000437   \n",
       "                    hits_overlap      6653       NaN       NaN       NaN   \n",
       "       Parietal     P-value            0.0       NaN       NaN       0.0   \n",
       "                    hits_overlap  348;6653       NaN       NaN  348;6653   \n",
       "       Temporal     P-value         0.0018       NaN       NaN   0.84679   \n",
       "Patel2 Cerebellum   P-value       0.135864  0.493906  0.896495       NaN   \n",
       "                    hits_overlap       348       NaN       NaN       NaN   \n",
       "       Entorhinal   P-value        0.00029    0.0018  0.919081       NaN   \n",
       "                    hits_overlap      6653       NaN       NaN       NaN   \n",
       "       Frontal      P-value       0.135864  0.713572  0.014989       NaN   \n",
       "                    hits_overlap       348       NaN       348       NaN   \n",
       "       Temporal     P-value         0.0018  0.009147  0.258689       NaN   \n",
       "\n",
       "Condition                          Only Ad  \n",
       "Study  Brain Region                         \n",
       "Patel1 Cerebellum   P-value       0.010365  \n",
       "       Frontal      P-value       0.044955  \n",
       "                    hits_overlap      6653  \n",
       "       Parietal     P-value       0.001844  \n",
       "                    hits_overlap       NaN  \n",
       "       Temporal     P-value         0.0018  \n",
       "Patel2 Cerebellum   P-value            NaN  \n",
       "                    hits_overlap       NaN  \n",
       "       Entorhinal   P-value            NaN  \n",
       "                    hits_overlap       NaN  \n",
       "       Frontal      P-value            NaN  \n",
       "                    hits_overlap       NaN  \n",
       "       Temporal     P-value            NaN  "
      ]
     },
     "execution_count": 5,
     "metadata": {},
     "output_type": "execute_result"
    }
   ],
   "source": [
    "# os.chdir('/home/upamanyu/GWANN/Code_AD/results_Sens8_v4')\n",
    "os.chdir('/home/upamanyu/GWANN/Code_AD/results_Sens8_v4/trad_GWAS')\n",
    "fgsea_res = pd.read_csv('enrichments/fGSEA_Patel_DEG.csv')\n",
    "fgsea_res = fgsea_res[['pathway', 'padj', 'hits_overlap']]\n",
    "fgsea_res['Study'] = fgsea_res['pathway'].apply(lambda x: x.split('_')[0].title())\n",
    "fgsea_res['Condition'] = fgsea_res['pathway'].apply(lambda x: ' '.join(x.split('_')[1:-1]).title())\n",
    "fgsea_res['Brain Region'] = fgsea_res['pathway'].apply(lambda x: x.split('_')[-1].title())\n",
    "fgsea_res.rename(columns={'padj': 'P-value'}, inplace=True)\n",
    "fgsea_res = fgsea_res[['Study', 'Condition', 'Brain Region', 'P-value', 'hits_overlap']]\n",
    "\n",
    "for study, df in fgsea_res.groupby('Study'):\n",
    "    print(study)\n",
    "    print(df.groupby(['Condition', 'Brain Region'])[['P-value', 'hits_overlap']].first().stack().unstack(1).T)\n",
    "    print()\n",
    "\n",
    "res_table = fgsea_res.groupby(['Study', 'Condition', 'Brain Region'])[['P-value', 'hits_overlap']].first().stack().unstack(1)\n",
    "res_table.to_excel('enrichments/fGSEA_Patel_DEG.xlsx')\n",
    "res_table"
   ]
  },
  {
   "cell_type": "markdown",
   "metadata": {},
   "source": [
    "# NN Architecture testing"
   ]
  },
  {
   "cell_type": "markdown",
   "metadata": {},
   "source": [
    "## Hits per architecture"
   ]
  },
  {
   "cell_type": "code",
   "execution_count": 9,
   "metadata": {},
   "outputs": [],
   "source": [
    "os.chdir('/home/upamanyu/GWANN/Code_AD/results')\n",
    "archs = os.listdir('.')\n",
    "archs = [a.replace('results_ArchTest_', '') for a in archs]\n",
    "arch_df = pd.DataFrame()\n",
    "arch_df['Architecture'] = ['_'.join(a.split('_')[1:]) for a in archs]\n",
    "arch_df['Random Seed'] = [a.split('_')[0] for a in archs]\n",
    "arch_df['Number of Hits'] = 0\n",
    "arch_df.index = archs\n",
    "for a in archs:\n",
    "    hits_df = pd.read_csv(f'results_ArchTest_{a}/FH_AD_Loss_ArchTest_{\"_\".join(a.split(\"_\")[:-1])}_gene_summary.csv')\n",
    "    hits_df = hits_df.loc[hits_df['P'] < 7.06e-7]\n",
    "    arch_df.loc[a, 'Number of Hits'] = int(hits_df.shape[0])\n",
    "arch_df.sort_values('Architecture', inplace=True)"
   ]
  },
  {
   "cell_type": "code",
   "execution_count": 15,
   "metadata": {},
   "outputs": [
    {
     "name": "stderr",
     "output_type": "stream",
     "text": [
      "/tmp/ipykernel_54473/734390822.py:9: UserWarning: FixedFormatter should only be used together with FixedLocator\n",
      "  ax.set_xticklabels(ax.get_xticklabels(), rotation=45)\n",
      "/home/upamanyu/.pyenv/versions/3.9.15/envs/GWANN_3.9/lib/python3.9/site-packages/scipy/stats/_axis_nan_policy.py:523: RuntimeWarning: Precision loss occurred in moment calculation due to catastrophic cancellation. This occurs when the data are nearly identical. Results may be unreliable.\n",
      "  res = hypotest_fun_out(*samples, **kwds)\n"
     ]
    },
    {
     "data": {
      "image/png": "[encoded data removed]",
      "text/plain": [
       "<Figure size 1000x600 with 1 Axes>"
      ]
     },
     "metadata": {},
     "output_type": "display_data"
    }
   ],
   "source": [
    "order = ['MLP', 'BranchedMLP', 'FrozenCov_BranchedMLP', \n",
    "        'GS10_GWANNet5', 'GS10_FrozenCov_GWANNet5', \n",
    "        'GS20_GWANNet5', 'GS20_FrozenCov_GWANNet5']\n",
    "fig, ax = plt.subplots(figsize=(10, 6))\n",
    "sns.boxplot(data=arch_df, x='Architecture', y='Number of Hits', \n",
    "            order=order,  whis=(0, 100),\n",
    "            color='white', linecolor='black', ax=ax)\n",
    "plt.draw()\n",
    "ax.set_xticklabels(ax.get_xticklabels(), rotation=45)\n",
    "ax.set_yticks(np.arange(0, 10, 2))\n",
    "ax.set_yticklabels(np.arange(0, 10, 2))\n",
    "ax.set_ylim((ax.get_ylim()[0], ax.get_ylim()[1]+2))\n",
    "ax.grid(visible=True, axis='y')\n",
    "# T-test between frozen and unfrozen covariates\n",
    "i=1\n",
    "for arch in ['BranchedMLP', 'GS10_GWANNet5', 'GS20_GWANNet5']:\n",
    "    arch1 = arch\n",
    "    if 'GWANNet5' in arch:\n",
    "        arch2 = arch.replace('GWANNet5', 'FrozenCov_GWANNet5')\n",
    "    else:\n",
    "        arch2 = f'FrozenCov_{arch}'\n",
    "    hits1 = arch_df[arch_df['Architecture'] == arch1]['Number of Hits']\n",
    "    hits2 = arch_df[arch_df['Architecture'] == arch2]['Number of Hits']\n",
    "    t_stat, p_val = stats.ttest_ind(hits1, hits2)\n",
    "    \n",
    "    if np.isnan(p_val):\n",
    "        p_val = 1\n",
    "\n",
    "    ax.axhline(max(hits1.max(), hits2.max())+1, \n",
    "                xmin=(i+0.5)/(ax.get_xlim()[1] - ax.get_xlim()[0]), \n",
    "                xmax=(i+1.5)/(ax.get_xlim()[1] - ax.get_xlim()[0]), \n",
    "                color='black', linestyle='--',)\n",
    "    ax.text(i+0.5, max(hits1.max(), hits2.max())+1.5, f'P = {p_val:.2f}', ha='center')\n",
    "    i += 2\n",
    "\n",
    "os.chdir('/home/upamanyu/GWANN/Code_AD/results_Sens8_v4')\n",
    "os.makedirs('architecture_plots', exist_ok=True)\n",
    "plt.savefig('architecture_plots/number_of_hits.png', dpi=300, bbox_inches='tight')"
   ]
  },
  {
   "cell_type": "markdown",
   "metadata": {},
   "source": [
    "# GWAS Catalog and AGORA plot"
   ]
  },
  {
   "cell_type": "code",
   "execution_count": 24,
   "metadata": {},
   "outputs": [
    {
     "data": {
      "image/png": "[encoded data removed]",
      "text/plain": [
       "<Figure size 550x1000 with 2 Axes>"
      ]
     },
     "metadata": {},
     "output_type": "display_data"
    }
   ],
   "source": [
    "os.chdir('/home/upamanyu/GWANN/Code_AD/results_Sens8_v4')\n",
    "fig, axes = plt.subplots(1, 2, figsize=(5.5, 10))\n",
    "axes = axes.flatten()"
   ]
  },
  {
   "cell_type": "markdown",
   "metadata": {},
   "source": [
    "## GWAS Catalog"
   ]
  },
  {
   "cell_type": "code",
   "execution_count": 25,
   "metadata": {},
   "outputs": [],
   "source": [
    "ax = axes[0]\n",
    "overlap_path = 'enrichments/gwas_catalog_overlap_1e-25.csv'\n",
    "gwas_AD_overlap = pd.read_csv(overlap_path, index_col=0)\n",
    "\n",
    "# Heatmap \n",
    "gwas_AD_overlap[gwas_AD_overlap == 0] = np.nan\n",
    "gwas_AD_overlap.sort_values(['Alzheimer\\'s disease', 'Neurofibrillary tangles or \\ntau protein meausurement'], \n",
    "                            ascending=False, inplace=True)\n",
    "sns.heatmap(data=gwas_AD_overlap, ax=ax, yticklabels=True, cmap='Reds', \n",
    "            annot=True, cbar=False)\n",
    "for t in ax.texts:\n",
    "    t.set_fontsize(16)\n",
    "ax.set_ylabel('Genes', fontsize=16)\n",
    "ax.set_xticklabels(ax.get_xticklabels(), rotation=90, fontsize=16)\n",
    "ax.set_yticklabels(ax.get_yticklabels(), fontsize=16)\n",
    "# cbar = ax.collections[0].colorbar\n",
    "# cbar.set_label(\"Number of GWAS\", fontsize=16)\n",
    "# cbar.ax.tick_params(labelsize=16)\n",
    "\n",
    "with open('enrichments/gwas_catalog_overlap_ytick_order.txt', 'w') as f:\n",
    "    f.write('\\n'.join([l.get_text() for l in ax.get_yticklabels()]))\n"
   ]
  },
  {
   "cell_type": "markdown",
   "metadata": {},
   "source": [
    "## AGORA"
   ]
  },
  {
   "cell_type": "code",
   "execution_count": 26,
   "metadata": {},
   "outputs": [
    {
     "data": {
      "text/plain": [
       "Text(0.5, 64.5222222222222, '')"
      ]
     },
     "execution_count": 26,
     "metadata": {},
     "output_type": "execute_result"
    }
   ],
   "source": [
    "ax = axes[1]\n",
    "\n",
    "agora_res_path = f'enrichments/AGORA.csv'\n",
    "agora_df = pd.read_csv(agora_res_path)\n",
    "\n",
    "# Agora heatmap\n",
    "agora_df = agora_df[['is_any_rna_changed_in_ad_brain', \n",
    "                        'is_any_protein_changed_in_ad_brain', 'is_eqtl', \n",
    "                        'BRAAK', 'CERAD', 'COGDX', 'hgnc_symbol']]\n",
    "agora_df['COGDX'] = agora_df['COGDX'] < 0.05\n",
    "agora_df['BRAAK'] = agora_df['BRAAK'] < 0.05\n",
    "agora_df['CERAD'] = agora_df['CERAD'] < 0.05\n",
    "agora_df.rename(columns={'is_any_rna_changed_in_ad_brain':'RNA change \\nin AD brain',\n",
    "                            'is_any_protein_changed_in_ad_brain':'Protein change \\nin AD brain',\n",
    "                            'is_eqtl':'Brain eQTL',\n",
    "                            'hgnc_symbol': 'Gene'}, inplace=True)\n",
    "agora_df = agora_df.filter(['Gene', 'RNA change \\nin AD brain', \n",
    "                            'Protein change \\nin AD brain',\n",
    "                            'Brain eQTL'])\n",
    "agora_df.set_index('Gene', inplace=True)\n",
    "agora_df = agora_df.apply(lambda x:x.astype(float), axis=0)\n",
    "\n",
    "# order according to gwas catalog overlap plot order\n",
    "with open('enrichments/gwas_catalog_overlap_ytick_order.txt', 'r') as f:\n",
    "    gene_order = f.read().split('\\n')\n",
    "agora_df = agora_df.loc[gene_order]\n",
    "\n",
    "cmap = copy.copy(plt.cm.get_cmap('Reds'))\n",
    "cmap.set_under(color='white')\n",
    "sns.heatmap(data=agora_df, cmap=cmap, cbar=False, xticklabels=True, \n",
    "            linewidths=0, ax=ax, vmin=0.1, vmax=1)\n",
    "ax.set_xticklabels(ax.get_xticklabels(), rotation=90, fontsize=16)\n",
    "ax.set_yticklabels([])\n",
    "ax.yaxis.set_tick_params(length=10)\n",
    "ax.set_ylabel('')\n",
    "ax.set_xlabel('')"
   ]
  },
  {
   "cell_type": "code",
   "execution_count": 27,
   "metadata": {},
   "outputs": [],
   "source": [
    "fig.tight_layout()\n",
    "fig.subplots_adjust(wspace=0.4)\n",
    "fig.savefig(f'enrichments/GWAS_Cat_AGORA.svg')\n",
    "fig.savefig(f'enrichments/GWAS_Cat_AGORA.png', dpi=300)"
   ]
  },
  {
   "cell_type": "markdown",
   "metadata": {},
   "source": [
    "# Supplementary tables"
   ]
  },
  {
   "cell_type": "code",
   "execution_count": 2,
   "metadata": {},
   "outputs": [],
   "source": [
    "os.chdir('/home/upamanyu/GWANN/Code_AD/results_Sens8_v4')"
   ]
  },
  {
   "cell_type": "markdown",
   "metadata": {},
   "source": [
    "## Neuro disorders excluded from controls"
   ]
  },
  {
   "cell_type": "code",
   "execution_count": 7,
   "metadata": {},
   "outputs": [],
   "source": [
    "neuro_df = pd.read_excel('enrichments/Neuro_disorders.xlsx')\n",
    "neuro_df.to_excel('Supplementary_tables.xlsx', sheet_name=\"ST 6\", index=False)"
   ]
  },
  {
   "cell_type": "markdown",
   "metadata": {},
   "source": [
    "## TargetDB"
   ]
  },
  {
   "cell_type": "code",
   "execution_count": 8,
   "metadata": {},
   "outputs": [],
   "source": [
    "target_df = pd.read_excel('enrichments/hits_targetDB.xlsx', header=1)\n",
    "with pd.ExcelWriter('Supplementary_tables.xlsx', mode='a', engine='openpyxl',\n",
    "                    if_sheet_exists='replace') as writer:\n",
    "    target_df.to_excel(writer, sheet_name=\"ST 5\", index=False)"
   ]
  },
  {
   "cell_type": "markdown",
   "metadata": {},
   "source": [
    "## STRING EFO Enrichment"
   ]
  },
  {
   "cell_type": "code",
   "execution_count": 9,
   "metadata": {},
   "outputs": [],
   "source": [
    "efo_df = pd.read_csv('enrichments/STRING_EFO_enrichment.csv')\n",
    "with pd.ExcelWriter('Supplementary_tables.xlsx', mode='a', engine='openpyxl',\n",
    "                    if_sheet_exists='replace') as writer:\n",
    "    efo_df.to_excel(writer, sheet_name=\"ST 4\", index=False)"
   ]
  },
  {
   "cell_type": "markdown",
   "metadata": {},
   "source": [
    "## DisGEeNET Results"
   ]
  },
  {
   "cell_type": "code",
   "execution_count": 10,
   "metadata": {},
   "outputs": [],
   "source": [
    "disgenet_df = pd.read_csv('enrichments/disgenet_enrichment.tsv', sep='\\t')\n",
    "with pd.ExcelWriter('Supplementary_tables.xlsx', mode='a', engine='openpyxl',\n",
    "                    if_sheet_exists='replace') as writer:\n",
    "    disgenet_df.to_excel(writer, sheet_name=\"ST 3\", index=False)"
   ]
  },
  {
   "cell_type": "markdown",
   "metadata": {},
   "source": [
    "## GSEA Results"
   ]
  },
  {
   "cell_type": "code",
   "execution_count": 11,
   "metadata": {},
   "outputs": [],
   "source": [
    "gene_sets = ['Reactome', 'KEGG_Legacy', 'Wiki', 'GO']\n",
    "gsea_df = []\n",
    "for gene_set in gene_sets:\n",
    "    fgsea_res = pd.read_csv(f'enrichments/fGSEA_{gene_set}.csv')\n",
    "    fgsea_res['pathway_set'] = gene_set\n",
    "    fgsea_res = fgsea_res[['pathway_set',] + fgsea_res.columns[:-1].tolist()]\n",
    "    gsea_df.append(fgsea_res)\n",
    "gsea_df = pd.concat(gsea_df)\n",
    "with pd.ExcelWriter('Supplementary_tables.xlsx', mode='a', engine='openpyxl',\n",
    "                    if_sheet_exists='replace') as writer:\n",
    "    gsea_df.to_excel(writer, sheet_name=\"ST 2\", index=False) "
   ]
  },
  {
   "cell_type": "markdown",
   "metadata": {},
   "source": [
    "## Summary stats"
   ]
  },
  {
   "cell_type": "code",
   "execution_count": 12,
   "metadata": {},
   "outputs": [
    {
     "data": {
      "text/html": [
       "<div>\n",
       "<style scoped>\n",
       "    .dataframe tbody tr th:only-of-type {\n",
       "        vertical-align: middle;\n",
       "    }\n",
       "\n",
       "    .dataframe tbody tr th {\n",
       "        vertical-align: top;\n",
       "    }\n",
       "\n",
       "    .dataframe thead th {\n",
       "        text-align: right;\n",
       "    }\n",
       "</style>\n",
       "<table border=\"1\" class=\"dataframe\">\n",
       "  <thead>\n",
       "    <tr style=\"text-align: right;\">\n",
       "      <th></th>\n",
       "      <th>Gene</th>\n",
       "      <th>Seed</th>\n",
       "      <th>Loss</th>\n",
       "    </tr>\n",
       "  </thead>\n",
       "  <tbody>\n",
       "    <tr>\n",
       "      <th>0</th>\n",
       "      <td>A1BG-AS1_0</td>\n",
       "      <td>NLL_0</td>\n",
       "      <td>0.693240</td>\n",
       "    </tr>\n",
       "    <tr>\n",
       "      <th>1</th>\n",
       "      <td>A1BG-AS1_0</td>\n",
       "      <td>NLL_37</td>\n",
       "      <td>0.693247</td>\n",
       "    </tr>\n",
       "    <tr>\n",
       "      <th>2</th>\n",
       "      <td>A1BG-AS1_0</td>\n",
       "      <td>NLL_56</td>\n",
       "      <td>0.694238</td>\n",
       "    </tr>\n",
       "    <tr>\n",
       "      <th>3</th>\n",
       "      <td>A1BG-AS1_0</td>\n",
       "      <td>NLL_89</td>\n",
       "      <td>0.693272</td>\n",
       "    </tr>\n",
       "    <tr>\n",
       "      <th>4</th>\n",
       "      <td>A1BG-AS1_0</td>\n",
       "      <td>NLL_142</td>\n",
       "      <td>0.693744</td>\n",
       "    </tr>\n",
       "  </tbody>\n",
       "</table>\n",
       "</div>"
      ],
      "text/plain": [
       "         Gene     Seed      Loss\n",
       "0  A1BG-AS1_0    NLL_0  0.693240\n",
       "1  A1BG-AS1_0   NLL_37  0.693247\n",
       "2  A1BG-AS1_0   NLL_56  0.694238\n",
       "3  A1BG-AS1_0   NLL_89  0.693272\n",
       "4  A1BG-AS1_0  NLL_142  0.693744"
      ]
     },
     "execution_count": 12,
     "metadata": {},
     "output_type": "execute_result"
    }
   ],
   "source": [
    "agg_df = pd.read_csv('results_Sens8_combined.csv')\n",
    "agg_df = agg_df[['Gene', 'Seed', 'Loss']]\n",
    "agg_df['Seed'] = agg_df['Seed'].apply(lambda x: f'NLL_{x}')\n",
    "agg_df.head()"
   ]
  },
  {
   "cell_type": "code",
   "execution_count": 13,
   "metadata": {},
   "outputs": [],
   "source": [
    "agg_df = agg_df.pivot(index='Gene', columns='Seed', values='Loss')"
   ]
  },
  {
   "cell_type": "code",
   "execution_count": 14,
   "metadata": {},
   "outputs": [],
   "source": [
    "res_df = pd.read_csv('summary_nsuperwins_1.csv')\n",
    "res_df = res_df[['Gene', 'Chrom', 'stat_trial_A', 'p_stat_trial_A']]\n",
    "res_df.rename(columns={'stat_trial_A': 'NLL', 'p_stat_trial_A': 'P-value'}, inplace=True)\n",
    "res_df.set_index('Gene', inplace=True)"
   ]
  },
  {
   "cell_type": "code",
   "execution_count": 15,
   "metadata": {},
   "outputs": [],
   "source": [
    "assert res_df.shape[0] == agg_df.shape[0]\n",
    "summary_df = pd.merge(res_df, agg_df, left_index=True, right_index=True)\n",
    "summary_df = summary_df.reset_index()\n",
    "summary_df.sort_values(['Chrom', 'Gene'], inplace=True)\n",
    "with pd.ExcelWriter('Supplementary_tables.xlsx', mode='a', engine='openpyxl',\n",
    "                    if_sheet_exists='replace') as writer:\n",
    "    summary_df.to_excel(writer, sheet_name=\"ST 1\", index=False) "
   ]
  }
 ],
 "metadata": {
  "kernelspec": {
   "display_name": "GWANN_3.9",
   "language": "python",
   "name": "python3"
  },
  "language_info": {
   "codemirror_mode": {
    "name": "ipython",
    "version": 3
   },
   "file_extension": ".py",
   "mimetype": "text/x-python",
   "name": "python",
   "nbconvert_exporter": "python",
   "pygments_lexer": "ipython3",
   "version": "3.9.15"
  }
 },
 "nbformat": 4,
 "nbformat_minor": 2
}
