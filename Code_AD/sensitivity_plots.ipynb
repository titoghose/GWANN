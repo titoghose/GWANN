{
 "cells": [
  {
   "attachments": {},
   "cell_type": "markdown",
   "metadata": {},
   "source": [
    "## Sensitivity 1.4"
   ]
  },
  {
   "cell_type": "code",
   "execution_count": 7,
   "metadata": {},
   "outputs": [],
   "source": [
    "import pandas as pd\n",
    "import numpy as np\n",
    "import seaborn as sns\n",
    "import matplotlib.pyplot as plt\n",
    "from scipy.stats import rankdata"
   ]
  },
  {
   "cell_type": "code",
   "execution_count": 53,
   "metadata": {},
   "outputs": [],
   "source": [
    "def process_df(df:pd.DataFrame):\n",
    "    summ_df = df.copy()\n",
    "    summ_df['Gene'] = summ_df['Gene'].apply(lambda x: x.split('_')[0]).values\n",
    "    summ_df.sort_values(['Gene', 'Acc'], ascending=[True, False], inplace=True)\n",
    "    summ_df.drop_duplicates('Gene', inplace=True)\n",
    "    summ_df = summ_df.loc[~summ_df['Gene'].isin(['APOE', 'TOMM40', 'APOC1'])]\n",
    "    summ_df['-logP'] = -np.log10(summ_df['P'])\n",
    "    summ_df['Rank'] = rankdata(summ_df['P'])\n",
    "    return summ_df\n",
    "\n",
    "agg_summ_df = pd.DataFrame(columns=['Gene', 'Acc', 'logP', 'Rank', 'Grouping_id'])\n",
    "for i in range(1, 5):\n",
    "    for j in range(i+1, 5):\n",
    "        dfi = pd.read_csv(f'/home/upamanyu/GWANN/Code_AD/results_Sens1.4/{i}_MATERNAL_MARIONI_Sens1.4_summary.csv')\n",
    "        dfi = process_df(dfi)\n",
    "        dfj = pd.read_csv(f'/home/upamanyu/GWANN/Code_AD/results_Sens1.4/{j}_MATERNAL_MARIONI_Sens1.4_summary.csv')\n",
    "        dfj = process_df(dfj)\n",
    "        \n",
    "        x = dfi['Acc'].values\n",
    "        y = dfj['Acc'].values\n",
    "\n",
    "        sns.scatterplot(x=x, y=y)\n",
    "        plt.savefig(f'./results_Sens1.4/effect_of_diff_grouping/{i}vs{j}_Acc.png', dpi=100)\n",
    "        plt.close()\n",
    "\n"
   ]
  },
  {
   "cell_type": "code",
   "execution_count": null,
   "metadata": {},
   "outputs": [],
   "source": [
    "agg_summ_df = pd.DataFrame(columns=['Gene', 'Acc', 'logP', 'Rank', 'Grouping_id'])\n",
    "for i in range(1, 5):\n",
    "    for j in range(i, 5):\n",
    "        dfi = pd.read_csv(f'/home/upamanyu/GWANN/Code_AD/results_Sens1.4/{i}_MATERNAL_MARIONI_Sens1.4_summary.csv')\n",
    "        dfj = pd.read_csv(f'/home/upamanyu/GWANN/Code_AD/results_Sens1.4/{j}_MATERNAL_MARIONI_Sens1.4_summary.csv')\n",
    "\n",
    "        summ_df = pd.read_csv(f'/home/upamanyu/GWANN/Code_AD/results_Sens1.4/{i}_MATERNAL_MARIONI_Sens1.4_summary.csv')\n",
    "        summ_df['Gene'] = summ_df['Gene'].apply(lambda x: x.split('_')[0]).values\n",
    "        summ_df.sort_values(['Gene', 'Acc'], ascending=[True, False], inplace=True)\n",
    "        summ_df.drop_duplicates('Gene', inplace=True)\n",
    "        summ_df['logP'] = -np.log10(summ_df['P'])\n",
    "        summ_df.loc[np.isposinf(summ_df['logP']), 'logP'] = \n",
    "        summ_df['Rank'] = rankdata(summ_df['P'])\n",
    "        summ_df['Grouping_id'] = pd.Categorical([i]*len(summ_df))\n",
    "        agg_summ_df = pd.concat((agg_summ_df, summ_df[agg_summ_df.columns]))\n",
    "\n",
    "sns.lineplot(data=agg_summ_df, x='Grouping_id', y='logP', hue='Gene')\n",
    "# plt.yticks(range(len(summ_df)), agg_summ_df.iloc[:len(summ_df)]['Gene'])"
   ]
  }
 ],
 "metadata": {
  "kernelspec": {
   "display_name": "GWANN",
   "language": "python",
   "name": "python3"
  },
  "language_info": {
   "codemirror_mode": {
    "name": "ipython",
    "version": 3
   },
   "file_extension": ".py",
   "mimetype": "text/x-python",
   "name": "python",
   "nbconvert_exporter": "python",
   "pygments_lexer": "ipython3",
   "version": "3.8.15"
  },
  "orig_nbformat": 4
 },
 "nbformat": 4,
 "nbformat_minor": 2
}
