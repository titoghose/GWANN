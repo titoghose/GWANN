{
 "cells": [
  {
   "cell_type": "code",
   "execution_count": 1,
   "metadata": {},
   "outputs": [],
   "source": [
    "%load_ext autoreload\n",
    "%autoreload 2"
   ]
  },
  {
   "cell_type": "code",
   "execution_count": 1,
   "metadata": {},
   "outputs": [
    {
     "name": "stderr",
     "output_type": "stream",
     "text": [
      "/home/upamanyu/.pyenv/versions/3.8.15/envs/GWANN/lib/python3.8/site-packages/tqdm/auto.py:21: TqdmWarning: IProgress not found. Please update jupyter and ipywidgets. See https://ipywidgets.readthedocs.io/en/stable/user_install.html\n",
      "  from .autonotebook import tqdm as notebook_tqdm\n"
     ]
    },
    {
     "data": {
      "text/plain": [
       "<torch._C.Generator at 0x7f41580ed8f0>"
      ]
     },
     "execution_count": 1,
     "metadata": {},
     "output_type": "execute_result"
    }
   ],
   "source": [
    "import torch\n",
    "from itertools import cycle, zip_longest\n",
    "import math\n",
    "from torch.utils.data import Dataset, DataLoader, Sampler, TensorDataset\n",
    "import numpy as np\n",
    "import random\n",
    "torch.manual_seed(0)\n",
    "# random.seed(0)"
   ]
  },
  {
   "cell_type": "code",
   "execution_count": 2,
   "metadata": {},
   "outputs": [],
   "source": [
    "class GWASDataset(Dataset):\n",
    "    def __init__(self, data, labels):\n",
    "        if not isinstance(data, torch.Tensor):\n",
    "            self.data = torch.tensor(data, dtype=torch.float)\n",
    "            self.labels = torch.tensor(labels, dtype=torch.float)\n",
    "        else:\n",
    "            self.data = data\n",
    "            self.labels = labels\n",
    "\n",
    "    def __len__(self):\n",
    "        return len(self.data)\n",
    "\n",
    "    def __getitem__(self, idx):\n",
    "        # Return data (seq_len, batch, input_dim), label for index \n",
    "        return (self.data[idx], self.labels[idx])\n",
    "    \n",
    "class GroupSampler(Sampler):\n",
    "    def __init__(self, data_source, grp_size, random_seed):\n",
    "        self.data_source = data_source\n",
    "        self.grp_size = grp_size\n",
    "        self.data_size = grp_size*len(self)\n",
    "        random.seed(random_seed)\n",
    "        \n",
    "    def __iter__(self):\n",
    "        indices = list(range(len(self.data_source)))\n",
    "        random.shuffle(indices)\n",
    "        for i in range(0, self.data_size, self.grp_size):\n",
    "            yield indices[i:i+self.grp_size]\n",
    "\n",
    "    def __len__(self):\n",
    "        return len(self.data_source)//self.grp_size\n",
    "\n",
    "class BalancedBatchGroupSampler(Sampler):\n",
    "    def __init__(self, dataset, batch_size, grp_size, random_seed):\n",
    "        self.case_idxs = torch.where(dataset.labels==1)[0]\n",
    "        self.cont_idxs = torch.where(dataset.labels==0)[0]\n",
    "        \n",
    "        assert batch_size % 2 == 0\n",
    "        self.batch_size = batch_size\n",
    "        \n",
    "        self.case_sampler = GroupSampler(self.case_idxs, \n",
    "                                         grp_size=grp_size,\n",
    "                                         random_seed=random_seed)\n",
    "        self.cont_sampler = GroupSampler(self.cont_idxs, \n",
    "                                         grp_size=grp_size,\n",
    "                                         random_seed=random_seed)\n",
    "        \n",
    "    def __iter__(self):\n",
    "        batch = []\n",
    "        for case, cont in zip_longest(cycle(self.case_sampler), self.cont_sampler):\n",
    "            if case is None or cont is None:\n",
    "                break\n",
    "            batch.append(self.case_idxs[case])\n",
    "            batch.append(self.cont_idxs[cont])\n",
    "            if len(batch) == self.batch_size:\n",
    "                random.shuffle(batch)\n",
    "                yield batch\n",
    "                batch = []\n",
    "            \n",
    "        if len(batch) != 0:\n",
    "            random.shuffle(batch)\n",
    "            yield batch\n",
    "\n",
    "    def __len__(self):\n",
    "        return math.ceil((len(self.cont_sampler)*2)/self.batch_size)\n",
    "\n"
   ]
  },
  {
   "cell_type": "code",
   "execution_count": 5,
   "metadata": {},
   "outputs": [
    {
     "name": "stdout",
     "output_type": "stream",
     "text": [
      "3\n",
      "Epoch: 0\n",
      "Data groups\n",
      "tensor([[39., 54., 52., 57., 34.],\n",
      "        [56., 41., 32., 31., 38.],\n",
      "        [ 1.,  5., 29.,  7., 20.],\n",
      "        [26., 16., 11., 10., 23.]])\n",
      "Labels: tensor([0., 0., 1., 1.])\n",
      "\n",
      "Data groups\n",
      "tensor([[49., 53., 40., 33., 35.],\n",
      "        [ 9., 28., 17., 13.,  0.],\n",
      "        [19., 22.,  6., 12., 21.],\n",
      "        [48., 45., 44., 37., 46.]])\n",
      "Labels: tensor([0., 1., 1., 0.])\n",
      "\n",
      "Data groups\n",
      "tensor([[14., 15.,  3.,  8.,  2.],\n",
      "        [58., 47., 50., 59., 30.],\n",
      "        [55., 43., 36., 51., 42.],\n",
      "        [24., 25., 27., 18.,  4.]])\n",
      "Labels: tensor([1., 0., 0., 1.])\n",
      "\n",
      "\n",
      "\n",
      "Epoch: 1\n",
      "Data groups\n",
      "tensor([[59., 57., 49., 33., 31.],\n",
      "        [ 4., 26., 22.,  9.,  3.],\n",
      "        [48., 43., 32., 53., 54.],\n",
      "        [ 0., 24., 23., 20.,  6.]])\n",
      "Labels: tensor([0., 1., 0., 1.])\n",
      "\n",
      "Data groups\n",
      "tensor([[21., 28., 25.,  8., 10.],\n",
      "        [14.,  2., 19., 17., 11.],\n",
      "        [39., 38., 40., 34., 45.],\n",
      "        [44., 51., 41., 56., 42.]])\n",
      "Labels: tensor([1., 1., 0., 0.])\n",
      "\n",
      "Data groups\n",
      "tensor([[ 1., 18., 12., 16., 27.],\n",
      "        [ 5., 13., 29.,  7., 15.],\n",
      "        [55., 52., 47., 36., 30.],\n",
      "        [37., 46., 58., 35., 50.]])\n",
      "Labels: tensor([1., 1., 0., 0.])\n",
      "\n",
      "\n",
      "\n",
      "Epoch: 2\n",
      "Data groups\n",
      "tensor([[49., 50., 47., 48., 37.],\n",
      "        [16.,  6.,  9., 20., 23.],\n",
      "        [57., 43., 42., 33., 59.],\n",
      "        [ 4.,  3., 15., 18., 12.]])\n",
      "Labels: tensor([0., 1., 0., 1.])\n",
      "\n",
      "Data groups\n",
      "tensor([[52., 36., 34., 30., 31.],\n",
      "        [ 8.,  2., 22., 28.,  5.],\n",
      "        [11.,  1., 24., 13., 21.],\n",
      "        [53., 45., 40., 44., 58.]])\n",
      "Labels: tensor([0., 1., 1., 0.])\n",
      "\n",
      "Data groups\n",
      "tensor([[ 7.,  0., 26., 14., 10.],\n",
      "        [27., 25., 19., 29., 17.],\n",
      "        [56., 35., 32., 39., 41.],\n",
      "        [54., 51., 55., 46., 38.]])\n",
      "Labels: tensor([1., 1., 0., 0.])\n",
      "\n",
      "\n",
      "\n",
      "Epoch: 3\n",
      "Data groups\n",
      "tensor([[51., 58., 37., 43., 57.],\n",
      "        [ 6., 18.,  8., 15., 28.],\n",
      "        [45., 52., 59., 32., 38.],\n",
      "        [29.,  9.,  5., 24., 21.]])\n",
      "Labels: tensor([0., 1., 0., 1.])\n",
      "\n",
      "Data groups\n",
      "tensor([[50., 40., 39., 33., 53.],\n",
      "        [41., 54., 42., 56., 46.],\n",
      "        [19.,  3.,  2.,  4., 11.],\n",
      "        [ 1., 13., 10., 12.,  0.]])\n",
      "Labels: tensor([0., 0., 1., 1.])\n",
      "\n",
      "Data groups\n",
      "tensor([[25., 20.,  7., 26., 17.],\n",
      "        [23., 27., 14., 16., 22.],\n",
      "        [48., 31., 47., 30., 34.],\n",
      "        [49., 35., 44., 55., 36.]])\n",
      "Labels: tensor([1., 1., 0., 0.])\n",
      "\n",
      "\n",
      "\n",
      "Epoch: 4\n",
      "Data groups\n",
      "tensor([[ 0.,  9., 14., 18., 25.],\n",
      "        [55., 30., 44., 50., 35.],\n",
      "        [56., 57., 51., 38., 58.],\n",
      "        [27., 29.,  5.,  4., 24.]])\n",
      "Labels: tensor([1., 0., 0., 1.])\n",
      "\n",
      "Data groups\n",
      "tensor([[32., 43., 31., 40., 59.],\n",
      "        [ 1.,  2.,  7., 20., 15.],\n",
      "        [41., 53., 42., 46., 36.],\n",
      "        [26., 23., 28., 16., 19.]])\n",
      "Labels: tensor([0., 1., 0., 1.])\n",
      "\n",
      "Data groups\n",
      "tensor([[21.,  8.,  6., 13., 10.],\n",
      "        [47., 48., 34., 45., 52.],\n",
      "        [54., 49., 37., 39., 33.],\n",
      "        [22., 11., 17., 12.,  3.]])\n",
      "Labels: tensor([1., 0., 0., 1.])\n",
      "\n",
      "\n",
      "\n"
     ]
    }
   ],
   "source": [
    "iids = torch.arange(60)\n",
    "vals = torch.ones((60, 9))\n",
    "x = torch.column_stack((iids, vals))\n",
    "labels = torch.cat((torch.ones(30), torch.zeros(30)))\n",
    "\n",
    "dataset = GWASDataset(x, labels)\n",
    "batch_sampler = BalancedBatchGroupSampler(dataset, batch_size=4, grp_size=5, random_seed=1)\n",
    "dataloader = DataLoader(dataset, batch_sampler=batch_sampler)\n",
    "\n",
    "print(len(dataloader))\n",
    "\n",
    "c = torch.nn.Conv1d(10, 8, 1)\n",
    "pool = torch.nn.AvgPool1d(5)\n",
    "for epoch in range(5):\n",
    "    print(f'Epoch: {epoch}')\n",
    "    for i, d in enumerate(dataloader):\n",
    "        print('Data groups')\n",
    "        print(d[0][:, :, 0])\n",
    "        print(f'Labels: {d[1][:, 0]}')\n",
    "        print()\n",
    "        # a = c(torch.transpose(d[0], 1, 2))\n",
    "        # print(a.shape)\n",
    "        # a = torch.squeeze(pool(a), dim=-1)\n",
    "        # print(a.shape)\n",
    "    print('\\n')"
   ]
  },
  {
   "cell_type": "code",
   "execution_count": 3,
   "metadata": {},
   "outputs": [],
   "source": [
    "from GWANN.models import GWANNet5, GroupAttention, AttentionMask1\n",
    "import torch"
   ]
  },
  {
   "cell_type": "code",
   "execution_count": 2,
   "metadata": {},
   "outputs": [],
   "source": [
    "cov_model = GroupAttention(grp_size=10, inp=9, enc=8, h=[32, 16, 8], \n",
    "                           d=[0.5, 0.5, 0.5], out=2, activation=torch.nn.ReLU,\n",
    "                           att_model=AttentionMask1)"
   ]
  },
  {
   "cell_type": "code",
   "execution_count": 4,
   "metadata": {},
   "outputs": [],
   "source": [
    "model = GWANNet5(grp_size=10, enc=8, snps=15, cov_model=cov_model,\n",
    "                 h=[32, 16], d=[0.5, 0.5], out=8, activation=torch.nn.ReLU, \n",
    "                 att_model=AttentionMask1)"
   ]
  },
  {
   "cell_type": "code",
   "execution_count": 29,
   "metadata": {},
   "outputs": [
    {
     "name": "stdout",
     "output_type": "stream",
     "text": [
      "snp_enc.weight True\n",
      "snp_enc.bias True\n",
      "snp_model.0.linears.0.weight True\n",
      "snp_model.0.linears.0.bias True\n",
      "snp_model.0.linears.1.weight True\n",
      "snp_model.0.linears.1.bias True\n",
      "snp_model.0.linears.2.weight True\n",
      "snp_model.0.linears.2.bias True\n",
      "snp_model.0.bnorms.0.weight True\n",
      "snp_model.0.bnorms.0.bias True\n",
      "snp_model.0.bnorms.1.weight True\n",
      "snp_model.0.bnorms.1.bias True\n",
      "snp_model.2.weight True\n",
      "snp_model.2.bias True\n",
      "cov_model.grp_enc.weight False\n",
      "cov_model.grp_enc.bias False\n",
      "cov_model.end_model.linears.0.weight False\n",
      "cov_model.end_model.linears.0.bias False\n",
      "cov_model.end_model.linears.1.weight False\n",
      "cov_model.end_model.linears.1.bias False\n",
      "cov_model.end_model.linears.2.weight False\n",
      "cov_model.end_model.linears.2.bias False\n",
      "cov_model.end_model.bnorms.0.weight False\n",
      "cov_model.end_model.bnorms.0.bias False\n",
      "cov_model.end_model.bnorms.1.weight False\n",
      "cov_model.end_model.bnorms.1.bias False\n",
      "cov_model.end_model.bnorms.2.weight False\n",
      "cov_model.end_model.bnorms.2.bias False\n",
      "end_model.linears.0.weight True\n",
      "end_model.linears.0.bias True\n",
      "end_model.linears.1.weight True\n",
      "end_model.linears.1.bias True\n",
      "end_model.linears.2.weight True\n",
      "end_model.linears.2.bias True\n",
      "end_model.bnorms.0.weight True\n",
      "end_model.bnorms.0.bias True\n",
      "end_model.bnorms.1.weight True\n",
      "end_model.bnorms.1.bias True\n"
     ]
    }
   ],
   "source": [
    "for np in model.named_parameters():\n",
    "    if 'cov_model' in np[0]:\n",
    "        np[1].requires_grad = False\n",
    "for np in model.named_parameters():\n",
    "    print(np[0], np[1].requires_grad)"
   ]
  },
  {
   "cell_type": "code",
   "execution_count": 19,
   "metadata": {},
   "outputs": [],
   "source": [
    "def m_name(m):\n",
    "    print(type(m))"
   ]
  },
  {
   "cell_type": "code",
   "execution_count": 20,
   "metadata": {},
   "outputs": [
    {
     "name": "stdout",
     "output_type": "stream",
     "text": [
      "\n",
      "<class 'GWANN.models.GroupAttention'>\n",
      "grp_enc\n",
      "<class 'torch.nn.modules.conv.Conv1d'>\n",
      "pool\n",
      "<class 'torch.nn.modules.pooling.AvgPool1d'>\n",
      "att_mask\n",
      "<class 'GWANN.models.AttentionMask1'>\n",
      "att_mask.relu\n",
      "<class 'torch.nn.modules.activation.ReLU'>\n",
      "att_mask.soft\n",
      "<class 'torch.nn.modules.activation.Softmax'>\n",
      "end_model\n",
      "<class 'GWANN.models.BasicNN'>\n",
      "end_model.linears\n",
      "<class 'torch.nn.modules.container.ModuleList'>\n",
      "end_model.linears.0\n",
      "<class 'torch.nn.modules.linear.Linear'>\n",
      "end_model.linears.1\n",
      "<class 'torch.nn.modules.linear.Linear'>\n",
      "end_model.linears.2\n",
      "<class 'torch.nn.modules.linear.Linear'>\n",
      "end_model.linears.3\n",
      "<class 'torch.nn.modules.linear.Linear'>\n",
      "end_model.dropouts\n",
      "<class 'torch.nn.modules.container.ModuleList'>\n",
      "end_model.dropouts.0\n",
      "<class 'torch.nn.modules.dropout.Dropout'>\n",
      "end_model.dropouts.1\n",
      "<class 'torch.nn.modules.dropout.Dropout'>\n",
      "end_model.dropouts.2\n",
      "<class 'torch.nn.modules.dropout.Dropout'>\n",
      "end_model.bnorms\n",
      "<class 'torch.nn.modules.container.ModuleList'>\n",
      "end_model.bnorms.0\n",
      "<class 'torch.nn.modules.batchnorm.BatchNorm1d'>\n",
      "end_model.bnorms.1\n",
      "<class 'torch.nn.modules.batchnorm.BatchNorm1d'>\n",
      "end_model.bnorms.2\n",
      "<class 'torch.nn.modules.batchnorm.BatchNorm1d'>\n",
      "end_model.activation\n",
      "<class 'torch.nn.modules.container.ModuleList'>\n",
      "end_model.activation.0\n",
      "<class 'torch.nn.modules.activation.ReLU'>\n",
      "end_model.activation.1\n",
      "<class 'torch.nn.modules.activation.ReLU'>\n",
      "end_model.activation.2\n",
      "<class 'torch.nn.modules.activation.ReLU'>\n"
     ]
    }
   ],
   "source": [
    "model = torch.load('/home/upamanyu/GWANN/Code_AD/NN_Logs/FH_AD_CovSens7_00_GS10_v4_GroupAttention_[32,16,8]_Dr_0.5_LR:0.0001_BS:256_Optim:adam/BCR/0_BCR.pt')\n",
    "for m in model.named_modules():\n",
    "    print(m[0])\n",
    "    m_name(m[1])\n",
    "    # m_name(m[1])\n",
    "    \n",
    "# for param in model.named_parameters():\n",
    "#     print(param[0])\n",
    "#     print(param[1][:, 0])\n",
    "#     break"
   ]
  },
  {
   "cell_type": "code",
   "execution_count": 1,
   "metadata": {},
   "outputs": [
    {
     "data": {
      "text/html": [
       "<div>\n",
       "<style scoped>\n",
       "    .dataframe tbody tr th:only-of-type {\n",
       "        vertical-align: middle;\n",
       "    }\n",
       "\n",
       "    .dataframe tbody tr th {\n",
       "        vertical-align: top;\n",
       "    }\n",
       "\n",
       "    .dataframe thead th {\n",
       "        text-align: right;\n",
       "    }\n",
       "</style>\n",
       "<table border=\"1\" class=\"dataframe\">\n",
       "  <thead>\n",
       "    <tr style=\"text-align: right;\">\n",
       "      <th></th>\n",
       "      <th>Gene</th>\n",
       "      <th>Seed</th>\n",
       "      <th>Chrom</th>\n",
       "      <th>Type</th>\n",
       "      <th>SNPs</th>\n",
       "      <th>Epoch</th>\n",
       "      <th>Acc</th>\n",
       "      <th>Loss</th>\n",
       "      <th>ROC_AUC</th>\n",
       "      <th>Time</th>\n",
       "      <th>P_Loss</th>\n",
       "    </tr>\n",
       "  </thead>\n",
       "  <tbody>\n",
       "    <tr>\n",
       "      <th>0</th>\n",
       "      <td>A1BG-AS1_0</td>\n",
       "      <td>0</td>\n",
       "      <td>19</td>\n",
       "      <td>NaN</td>\n",
       "      <td>9</td>\n",
       "      <td>47</td>\n",
       "      <td>0.497565</td>\n",
       "      <td>0.693240</td>\n",
       "      <td>0.495822</td>\n",
       "      <td>0:02:45.390777</td>\n",
       "      <td>0.401331</td>\n",
       "    </tr>\n",
       "    <tr>\n",
       "      <th>1</th>\n",
       "      <td>A1BG-AS1_0</td>\n",
       "      <td>37</td>\n",
       "      <td>19</td>\n",
       "      <td>NaN</td>\n",
       "      <td>9</td>\n",
       "      <td>19</td>\n",
       "      <td>0.494774</td>\n",
       "      <td>0.693247</td>\n",
       "      <td>0.499488</td>\n",
       "      <td>0:01:43.146066</td>\n",
       "      <td>0.397940</td>\n",
       "    </tr>\n",
       "    <tr>\n",
       "      <th>2</th>\n",
       "      <td>A1BG-AS1_0</td>\n",
       "      <td>89</td>\n",
       "      <td>19</td>\n",
       "      <td>NaN</td>\n",
       "      <td>9</td>\n",
       "      <td>16</td>\n",
       "      <td>0.500594</td>\n",
       "      <td>0.693272</td>\n",
       "      <td>0.498412</td>\n",
       "      <td>0:01:35.414050</td>\n",
       "      <td>0.416181</td>\n",
       "    </tr>\n",
       "    <tr>\n",
       "      <th>3</th>\n",
       "      <td>A1BG-AS1_0</td>\n",
       "      <td>172</td>\n",
       "      <td>19</td>\n",
       "      <td>NaN</td>\n",
       "      <td>9</td>\n",
       "      <td>15</td>\n",
       "      <td>0.488480</td>\n",
       "      <td>0.693193</td>\n",
       "      <td>0.493058</td>\n",
       "      <td>0:01:29.934214</td>\n",
       "      <td>0.334845</td>\n",
       "    </tr>\n",
       "    <tr>\n",
       "      <th>4</th>\n",
       "      <td>A1BG-AS1_0</td>\n",
       "      <td>281</td>\n",
       "      <td>19</td>\n",
       "      <td>NaN</td>\n",
       "      <td>9</td>\n",
       "      <td>16</td>\n",
       "      <td>0.486936</td>\n",
       "      <td>0.693525</td>\n",
       "      <td>0.482767</td>\n",
       "      <td>0:01:30.736621</td>\n",
       "      <td>0.510990</td>\n",
       "    </tr>\n",
       "  </tbody>\n",
       "</table>\n",
       "</div>"
      ],
      "text/plain": [
       "         Gene  Seed  Chrom  Type  SNPs  Epoch       Acc      Loss   ROC_AUC  \\\n",
       "0  A1BG-AS1_0     0     19   NaN     9     47  0.497565  0.693240  0.495822   \n",
       "1  A1BG-AS1_0    37     19   NaN     9     19  0.494774  0.693247  0.499488   \n",
       "2  A1BG-AS1_0    89     19   NaN     9     16  0.500594  0.693272  0.498412   \n",
       "3  A1BG-AS1_0   172     19   NaN     9     15  0.488480  0.693193  0.493058   \n",
       "4  A1BG-AS1_0   281     19   NaN     9     16  0.486936  0.693525  0.482767   \n",
       "\n",
       "             Time    P_Loss  \n",
       "0  0:02:45.390777  0.401331  \n",
       "1  0:01:43.146066  0.397940  \n",
       "2  0:01:35.414050  0.416181  \n",
       "3  0:01:29.934214  0.334845  \n",
       "4  0:01:30.736621  0.510990  "
      ]
     },
     "execution_count": 1,
     "metadata": {},
     "output_type": "execute_result"
    }
   ],
   "source": [
    "import pandas as pd\n",
    "import numpy as np\n",
    "import seaborn as sns\n",
    "import matplotlib.pyplot as plt\n",
    "\n",
    "df = pd.read_csv('/home/upamanyu/GWANN/Code_AD/results_Sens8_v4/results_Sens8_combined.csv')\n",
    "df.head()"
   ]
  },
  {
   "cell_type": "code",
   "execution_count": 19,
   "metadata": {},
   "outputs": [
    {
     "data": {
      "image/png": "[encoded data removed]",
      "text/plain": [
       "<Figure size 640x480 with 1 Axes>"
      ]
     },
     "metadata": {},
     "output_type": "display_data"
    }
   ],
   "source": [
    "df['Gene_noWin'] = df['Gene'].str.split('_').str[0]\n",
    "df['Total_SNPs'] = df.groupby('Gene_noWin')['SNPs'].transform('sum')\n",
    "\n",
    "# Plot 100 quantiles of total SNPs\n",
    "n_quant = 50\n",
    "quants = np.arange(0, n_quant+1)*(1/n_quant)\n",
    "plt.plot(quants, np.quantile(df['Total_SNPs'].values, quants))\n",
    "plt.xlabel('Quantile')\n",
    "plt.ylabel('Total SNPs')\n",
    "plt.title('Quantile plot of total SNPs')\n",
    "plt.show()"
   ]
  },
  {
   "cell_type": "code",
   "execution_count": 11,
   "metadata": {},
   "outputs": [
    {
     "data": {
      "text/plain": [
       "Text(0.5, 1.0, 'Cummulative sum of number of SNPs per window')"
      ]
     },
     "execution_count": 11,
     "metadata": {},
     "output_type": "execute_result"
    },
    {
     "data": {
      "image/png": "[encoded data removed]",
      "text/plain": [
       "<Figure size 640x480 with 1 Axes>"
      ]
     },
     "metadata": {},
     "output_type": "display_data"
    }
   ],
   "source": [
    "df.drop_duplicates('Gene', inplace=True)\n",
    "# Plot cummulative histogram\n",
    "cnt, bins = np.histogram(df['SNPs'], bins=5)\n",
    "ax = sns.histplot(df['SNPs'], bins=bins, cumulative=True)\n",
    "plt.title('Cummulative sum of number of SNPs per window')"
   ]
  },
  {
   "cell_type": "code",
   "execution_count": 3,
   "metadata": {},
   "outputs": [
    {
     "data": {
      "text/plain": [
       "<AxesSubplot:xlabel='SNPs', ylabel='Count'>"
      ]
     },
     "execution_count": 3,
     "metadata": {},
     "output_type": "execute_result"
    },
    {
     "data": {
      "image/png": "[encoded data removed]",
      "text/plain": [
       "<Figure size 640x480 with 1 Axes>"
      ]
     },
     "metadata": {},
     "output_type": "display_data"
    }
   ],
   "source": [
    "dummy = pd.read_csv('/home/upamanyu/GWANN/Code_AD/results_Sens8_v4/results_Sens8_dummy_combined.csv')\n",
    "dummy.drop_duplicates('Gene', inplace=True)\n",
    "sns.histplot(dummy['SNPs'])"
   ]
  }
 ],
 "metadata": {
  "kernelspec": {
   "display_name": "GWANN",
   "language": "python",
   "name": "python3"
  },
  "language_info": {
   "codemirror_mode": {
    "name": "ipython",
    "version": 3
   },
   "file_extension": ".py",
   "mimetype": "text/x-python",
   "name": "python",
   "nbconvert_exporter": "python",
   "pygments_lexer": "ipython3",
   "version": "3.9.15"
  },
  "orig_nbformat": 4
 },
 "nbformat": 4,
 "nbformat_minor": 2
}
