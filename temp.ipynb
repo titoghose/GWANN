{
 "cells": [
  {
   "cell_type": "code",
   "execution_count": 14,
   "metadata": {},
   "outputs": [
    {
     "data": {
      "text/plain": [
       "<torch._C.Generator at 0x7f181c09a930>"
      ]
     },
     "execution_count": 14,
     "metadata": {},
     "output_type": "execute_result"
    }
   ],
   "source": [
    "import torch\n",
    "from itertools import cycle, zip_longest\n",
    "import math\n",
    "from torch.utils.data import Dataset, DataLoader, Sampler, TensorDataset\n",
    "import numpy as np\n",
    "import random\n",
    "torch.manual_seed(0)\n",
    "# random.seed(0)"
   ]
  },
  {
   "cell_type": "code",
   "execution_count": 15,
   "metadata": {},
   "outputs": [],
   "source": [
    "class GWASDataset(Dataset):\n",
    "    def __init__(self, data, labels):\n",
    "        if not isinstance(data, torch.Tensor):\n",
    "            self.data = torch.tensor(data, dtype=torch.float)\n",
    "            self.labels = torch.tensor(labels, dtype=torch.float)\n",
    "        else:\n",
    "            self.data = data\n",
    "            self.labels = labels\n",
    "\n",
    "    def __len__(self):\n",
    "        return len(self.data)\n",
    "\n",
    "    def __getitem__(self, idx):\n",
    "        # Return data (seq_len, batch, input_dim), label for index \n",
    "        return (self.data[idx], self.labels[idx])\n",
    "    \n",
    "class GroupSampler(Sampler):\n",
    "    def __init__(self, data_source, grp_size, random_seed):\n",
    "        self.data_source = data_source\n",
    "        self.grp_size = grp_size\n",
    "        self.data_size = grp_size*len(self)\n",
    "        random.seed(random_seed)\n",
    "        \n",
    "    def __iter__(self):\n",
    "        indices = list(range(len(self.data_source)))\n",
    "        random.shuffle(indices)\n",
    "        for i in range(0, self.data_size, self.grp_size):\n",
    "            yield indices[i:i+self.grp_size]\n",
    "\n",
    "    def __len__(self):\n",
    "        return len(self.data_source)//self.grp_size\n",
    "\n",
    "class BalancedBatchGroupSampler(Sampler):\n",
    "    def __init__(self, dataset, batch_size, grp_size, random_seed):\n",
    "        self.case_idxs = torch.where(dataset.labels==1)[0]\n",
    "        self.cont_idxs = torch.where(dataset.labels==0)[0]\n",
    "        \n",
    "        assert batch_size % 2 == 0\n",
    "        self.batch_size = batch_size\n",
    "        \n",
    "        self.case_sampler = GroupSampler(self.case_idxs, \n",
    "                                         grp_size=grp_size,\n",
    "                                         random_seed=random_seed)\n",
    "        self.cont_sampler = GroupSampler(self.cont_idxs, \n",
    "                                         grp_size=grp_size,\n",
    "                                         random_seed=random_seed)\n",
    "        \n",
    "    def __iter__(self):\n",
    "        batch = []\n",
    "        for case, cont in zip_longest(cycle(self.case_sampler), self.cont_sampler):\n",
    "            if case is None or cont is None:\n",
    "                break\n",
    "            batch.append(self.case_idxs[case])\n",
    "            batch.append(self.cont_idxs[cont])\n",
    "            if len(batch) == self.batch_size:\n",
    "                random.shuffle(batch)\n",
    "                yield batch\n",
    "                batch = []\n",
    "            \n",
    "        if len(batch) != 0:\n",
    "            yield batch\n",
    "\n",
    "    def __len__(self):\n",
    "        return int(math.ceil((len(self.cont_sampler)*2)/self.batch_size))\n",
    "\n"
   ]
  },
  {
   "cell_type": "code",
   "execution_count": 25,
   "metadata": {},
   "outputs": [],
   "source": [
    "iids = torch.arange(6000)\n",
    "vals = torch.ones((6000, 4))\n",
    "x = torch.column_stack((iids, vals))\n",
    "labels = torch.cat((torch.ones(1000), torch.zeros(5000)))\n",
    "\n",
    "dataset = GWASDataset(x, labels)\n",
    "batch_sampler = BalancedBatchGroupSampler(dataset, batch_size=32, grp_size=4, random_seed=0)\n",
    "dataloader = DataLoader(dataset, batch_sampler=batch_sampler)"
   ]
  },
  {
   "cell_type": "code",
   "execution_count": 26,
   "metadata": {},
   "outputs": [
    {
     "data": {
      "text/plain": [
       "79"
      ]
     },
     "execution_count": 26,
     "metadata": {},
     "output_type": "execute_result"
    }
   ],
   "source": [
    "len(dataloader)"
   ]
  },
  {
   "cell_type": "code",
   "execution_count": 27,
   "metadata": {},
   "outputs": [
    {
     "name": "stdout",
     "output_type": "stream",
     "text": [
      "tensor([ 34.,  54., 399., 559.])\n",
      "tensor([157.,  30., 768., 370.])\n",
      "tensor([124., 534., 666., 614.])\n",
      "tensor([227., 643., 289., 963.])\n",
      "tensor([837., 200., 198., 284.])\n"
     ]
    }
   ],
   "source": [
    "for _ in range(5):\n",
    "    for i, d in enumerate(dataloader):\n",
    "        if i == 0:\n",
    "            print(d[0][:,:,0][0])\n",
    "        "
   ]
  }
 ],
 "metadata": {
  "kernelspec": {
   "display_name": "GWANN",
   "language": "python",
   "name": "python3"
  },
  "language_info": {
   "codemirror_mode": {
    "name": "ipython",
    "version": 3
   },
   "file_extension": ".py",
   "mimetype": "text/x-python",
   "name": "python",
   "nbconvert_exporter": "python",
   "pygments_lexer": "ipython3",
   "version": "3.8.15"
  },
  "orig_nbformat": 4
 },
 "nbformat": 4,
 "nbformat_minor": 2
}
